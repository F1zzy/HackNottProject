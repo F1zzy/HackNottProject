{
 "cells": [
  {
   "cell_type": "markdown",
   "id": "d25dc9d6-324c-41b3-b38f-dcbfda382838",
   "metadata": {},
   "source": [
    "# Text To Speech Translator"
   ]
  },
  {
   "cell_type": "markdown",
   "id": "c49ae075-fb0b-40e8-ba68-dd26a822f5be",
   "metadata": {
    "jp-MarkdownHeadingCollapsed": true
   },
   "source": [
    "## Imports And Libaries "
   ]
  },
  {
   "cell_type": "code",
   "execution_count": 1,
   "id": "c71ffc6b-5004-4c56-9e87-620dc6acc562",
   "metadata": {},
   "outputs": [
    {
     "name": "stdout",
     "output_type": "stream",
     "text": [
      "Package                      Version\n",
      "---------------------------- ----------------\n",
      "absl-py                      2.0.0\n",
      "aiohttp                      3.8.6\n",
      "aiosignal                    1.3.1\n",
      "anyio                        4.0.0\n",
      "apturl                       0.5.2\n",
      "argon2-cffi                  23.1.0\n",
      "argon2-cffi-bindings         21.2.0\n",
      "arrow                        1.3.0\n",
      "asttokens                    2.4.1\n",
      "astunparse                   1.6.3\n",
      "async-lru                    2.0.4\n",
      "async-timeout                4.0.3\n",
      "attrs                        23.1.0\n",
      "Babel                        2.13.1\n",
      "beautifulsoup4               4.12.2\n",
      "bleach                       6.1.0\n",
      "blinker                      1.4\n",
      "Brlapi                       0.8.3\n",
      "cachetools                   5.3.1\n",
      "certifi                      2020.6.20\n",
      "cffi                         1.16.0\n",
      "chardet                      4.0.0\n",
      "charset-normalizer           3.3.0\n",
      "click                        8.0.3\n",
      "colorama                     0.4.4\n",
      "comm                         0.1.4\n",
      "command-not-found            0.3\n",
      "contourpy                    1.2.0\n",
      "cryptography                 3.4.8\n",
      "cupshelpers                  1.0\n",
      "cycler                       0.12.1\n",
      "dbus-python                  1.2.18\n",
      "debugpy                      1.8.0\n",
      "decorator                    5.1.1\n",
      "defer                        1.0.6\n",
      "defusedxml                   0.7.1\n",
      "discord.py                   2.3.2\n",
      "distro                       1.7.0\n",
      "distro-info                  1.1+ubuntu0.1\n",
      "exceptiongroup               1.1.3\n",
      "executing                    2.0.1\n",
      "fastjsonschema               2.18.1\n",
      "flatbuffers                  23.5.26\n",
      "fonttools                    4.44.0\n",
      "fqdn                         1.5.1\n",
      "frozenlist                   1.4.0\n",
      "gast                         0.5.4\n",
      "google-auth                  2.23.3\n",
      "google-auth-oauthlib         1.0.0\n",
      "google-pasta                 0.2.0\n",
      "greenlet                     3.0.0\n",
      "grpcio                       1.59.2\n",
      "gspread                      5.11.3\n",
      "h5py                         3.10.0\n",
      "httplib2                     0.20.2\n",
      "idna                         3.3\n",
      "importlib-metadata           4.6.4\n",
      "ipykernel                    6.26.0\n",
      "ipython                      8.17.2\n",
      "isoduration                  20.11.0\n",
      "jedi                         0.19.1\n",
      "jeepney                      0.7.1\n",
      "Jinja2                       3.1.2\n",
      "json5                        0.9.14\n",
      "jsonpointer                  2.4\n",
      "jsonschema                   4.19.2\n",
      "jsonschema-specifications    2023.7.1\n",
      "jupyter_client               8.5.0\n",
      "jupyter_core                 5.5.0\n",
      "jupyter-events               0.8.0\n",
      "jupyter-lsp                  2.2.0\n",
      "jupyter_server               2.9.1\n",
      "jupyter_server_terminals     0.4.4\n",
      "jupyterlab                   4.0.8\n",
      "jupyterlab-pygments          0.2.2\n",
      "jupyterlab_server            2.25.0\n",
      "keras                        2.14.0\n",
      "keyring                      23.5.0\n",
      "kiwisolver                   1.4.5\n",
      "language-selector            0.1\n",
      "launchpadlib                 1.10.16\n",
      "lazr.restfulclient           0.14.4\n",
      "lazr.uri                     1.0.6\n",
      "libclang                     16.0.6\n",
      "louis                        3.20.0\n",
      "lxml                         4.9.3\n",
      "macaroonbakery               1.3.1\n",
      "Markdown                     3.5.1\n",
      "MarkupSafe                   2.1.3\n",
      "matplotlib                   3.8.1\n",
      "matplotlib-inline            0.1.6\n",
      "mediapipe                    0.10.7\n",
      "mistune                      3.0.2\n",
      "ml-dtypes                    0.2.0\n",
      "more-itertools               8.10.0\n",
      "multidict                    6.0.4\n",
      "nbclient                     0.8.0\n",
      "nbconvert                    7.10.0\n",
      "nbformat                     5.9.2\n",
      "nest-asyncio                 1.5.8\n",
      "netifaces                    0.11.0\n",
      "notebook                     7.0.6\n",
      "notebook_shim                0.2.3\n",
      "numpy                        1.26.1\n",
      "oauthlib                     3.2.0\n",
      "olefile                      0.46\n",
      "opencv-contrib-python        4.8.1.78\n",
      "opencv-python                4.8.1.78\n",
      "opt-einsum                   3.3.0\n",
      "overrides                    7.4.0\n",
      "packaging                    23.2\n",
      "pandas                       2.1.1\n",
      "pandocfilters                1.5.0\n",
      "parso                        0.8.3\n",
      "pexpect                      4.8.0\n",
      "Pillow                       9.0.1\n",
      "pip                          22.0.2\n",
      "platformdirs                 3.11.0\n",
      "playwright                   1.39.0\n",
      "prometheus-client            0.18.0\n",
      "prompt-toolkit               3.0.39\n",
      "protobuf                     3.20.3\n",
      "psutil                       5.9.6\n",
      "ptyprocess                   0.7.0\n",
      "pure-eval                    0.2.2\n",
      "pyasn1                       0.5.0\n",
      "pyasn1-modules               0.3.0\n",
      "pycairo                      1.20.1\n",
      "pycparser                    2.21\n",
      "pycups                       2.0.1\n",
      "pyee                         11.0.1\n",
      "Pygments                     2.16.1\n",
      "PyGObject                    3.42.1\n",
      "PyJWT                        2.3.0\n",
      "pymacaroons                  0.13.0\n",
      "PyNaCl                       1.5.0\n",
      "pyparsing                    2.4.7\n",
      "pyRFC3339                    1.1\n",
      "python-apt                   2.4.0+ubuntu2\n",
      "python-dateutil              2.8.2\n",
      "python-debian                0.1.43+ubuntu1.1\n",
      "python-json-logger           2.0.7\n",
      "python-version               0.0.2\n",
      "pytz                         2022.1\n",
      "pyxdg                        0.27\n",
      "PyYAML                       5.4.1\n",
      "pyzmq                        25.1.1\n",
      "referencing                  0.30.2\n",
      "reportlab                    3.6.8\n",
      "requests                     2.31.0\n",
      "requests-oauthlib            1.3.1\n",
      "rfc3339-validator            0.1.4\n",
      "rfc3986-validator            0.1.1\n",
      "rpds-py                      0.12.0\n",
      "rsa                          4.9\n",
      "screen-resolution-extra      0.0.0\n",
      "SecretStorage                3.3.1\n",
      "Send2Trash                   1.8.2\n",
      "setuptools                   59.6.0\n",
      "six                          1.16.0\n",
      "sklearn                      0.0.post10\n",
      "sniffio                      1.3.0\n",
      "sounddevice                  0.4.6\n",
      "soupsieve                    2.5\n",
      "stack-data                   0.6.3\n",
      "systemd-python               234\n",
      "tensorboard                  2.14.1\n",
      "tensorboard-data-server      0.7.2\n",
      "tensorflow                   2.14.0\n",
      "tensorflow-estimator         2.14.0\n",
      "tensorflow-io-gcs-filesystem 0.34.0\n",
      "termcolor                    2.3.0\n",
      "terminado                    0.17.1\n",
      "tinycss2                     1.2.1\n",
      "tomli                        2.0.1\n",
      "tornado                      6.3.3\n",
      "traitlets                    5.13.0\n",
      "types-python-dateutil        2.8.19.14\n",
      "typing_extensions            4.8.0\n",
      "tzdata                       2023.3\n",
      "ubuntu-advantage-tools       8001\n",
      "ubuntu-drivers-common        0.0.0\n",
      "ufw                          0.36.1\n",
      "unattended-upgrades          0.1\n",
      "uri-template                 1.3.0\n",
      "urllib3                      1.26.5\n",
      "wadllib                      1.3.6\n",
      "wcwidth                      0.2.9\n",
      "webcolors                    1.13\n",
      "webencodings                 0.5.1\n",
      "websocket-client             1.6.4\n",
      "Werkzeug                     3.0.1\n",
      "wheel                        0.37.1\n",
      "wrapt                        1.14.1\n",
      "xdg                          5\n",
      "xkit                         0.0.0\n",
      "xvfbwrapper                  0.2.9\n",
      "yarl                         1.9.2\n",
      "zipp                         1.0.0\n",
      "Note: you may need to restart the kernel to use updated packages.\n"
     ]
    }
   ],
   "source": [
    "pip list # All The Pip installs have been made "
   ]
  },
  {
   "cell_type": "code",
   "execution_count": 3,
   "id": "ddc094b5-9d06-49ae-957a-edba534148a7",
   "metadata": {},
   "outputs": [],
   "source": [
    "import cv2\n",
    "import numpy as np\n",
    "import os\n",
    "from matplotlib import pyplot as pltlist_physical_devices\n",
    "import time\n",
    "import mediapipe as mp"
   ]
  },
  {
   "cell_type": "markdown",
   "id": "17ec7a79-913e-451d-9904-cb48097529ad",
   "metadata": {},
   "source": [
    "## Keypoints and values for evulation."
   ]
  },
  {
   "cell_type": "code",
   "execution_count": 55,
   "id": "f8fe369c-f5ec-4af6-9f9c-d790fe049617",
   "metadata": {},
   "outputs": [],
   "source": [
    "mp_holistic = mp.solutions.holistic #Skeleton Model,\n",
    "mp_drawing = mp.solutions.drawing_utils #Drawing Points On the Skeleton "
   ]
  },
  {
   "cell_type": "code",
   "execution_count": 56,
   "id": "22d6e022-224e-4fcb-918f-868ea11b8f6f",
   "metadata": {},
   "outputs": [],
   "source": [
    "def mediapipe_detection(image, model):\n",
    "    image = cv2.cvtColor(image, cv2.COLOR_BGR2RGB) # Allow to convert Colour of image going from BGR to RGC\n",
    "    image.flags.writeable = False                  # Image is no longer writeable\n",
    "    results = model.process(image)                 # Make prediction on image \n",
    "    image.flags.writeable = True                   # Then Write to Image \n",
    "    image = cv2.cvtColor(image, cv2.COLOR_RGB2BGR) #Going Back to BGR\n",
    "    return image, results\n"
   ]
  },
  {
   "cell_type": "code",
   "execution_count": 118,
   "id": "23bfe7e6-c350-437b-8bba-b2ea5eb47e09",
   "metadata": {},
   "outputs": [],
   "source": [
    "def draw_landmarks(image, results):\n",
    "    \n",
    "    mp_drawing.draw_landmarks(image, results.face_landmarks, mp_holistic.FACEMESH_TESSELATION, mp_drawing.DrawingSpec(color=(80, 110, 10), thickness=1, circle_radius=1))\n",
    "# Face\n",
    "    mp_drawing.draw_landmarks(image, results.pose_landmarks, mp_holistic.POSE_CONNECTIONS) # Upper Body\n",
    "    mp_drawing.draw_landmarks(image, results.left_hand_landmarks, mp_holistic.HAND_CONNECTIONS) # Left Hand\n",
    "    mp_drawing.draw_landmarks(image, results.right_hand_landmarks, mp_holistic.HAND_CONNECTIONS) # Right Hand  "
   ]
  },
  {
   "cell_type": "code",
   "execution_count": 119,
   "id": "49278f2a-99be-447a-8fc5-38694b52b1b2",
   "metadata": {},
   "outputs": [
    {
     "name": "stderr",
     "output_type": "stream",
     "text": [
      "[ WARN:0@7244.087] global cap_v4l.cpp:982 open VIDEOIO(V4L2:/dev/video0): can't open camera by index\n",
      "[ERROR:0@7244.088] global obsensor_uvc_stream_channel.cpp:156 getStreamChannelGroup Camera index out of range\n"
     ]
    }
   ],
   "source": [
    "cap = cv2.VideoCapture(0)\n",
    "\n",
    "#Using Full resolution of caemra.\n",
    "cap.set(3, 1920)\n",
    "cap.set(4, 1080)\n",
    "\n",
    "#Set FPS\n",
    "fps_time = time.time()\n",
    "#Set Mediapipe Model To start tracking and then Go off that Point \n",
    "with mp_holistic.Holistic(min_detection_confidence=0.7, min_tracking_confidence=0.5) as holistic:\n",
    "    while cap.isOpened():\n",
    "        #Reading video\n",
    "        ret, frame = cap.read()\n",
    "    \n",
    "        #Making Detections:\n",
    "        image, results = mediapipe_detection(frame,holistic)\n",
    "        #Draw Sketelon \n",
    "        draw_landmarks(image,results)\n",
    "        \n",
    "        # Calculate FPS\n",
    "        current_time = time.time()\n",
    "        fps = 1 / (current_time - fps_time)\n",
    "        fps_time = current_time\n",
    "    \n",
    "        # Display the FPS on the video feed\n",
    "        cv2.putText(image, f\"FPS: {int(fps)}\", (10, 30), cv2.FONT_HERSHEY_SIMPLEX, 1, (0, 255, 0), 2)\n",
    "        \n",
    "        #Show on Laptop\n",
    "        cv2.imshow('Feed' , image)\n",
    "        #Quit When Q is pressed ( Hopefully Gracefully) \n",
    "        if cv2.waitKey(10) & 0xFF == ord('q'):\n",
    "            break\n",
    "    \n",
    "    cap.release()\n",
    "    cv2.destroyAllWindows()"
   ]
  },
  {
   "cell_type": "markdown",
   "id": "7fef3c75-46ab-45b6-9c06-da0c72e22a72",
   "metadata": {
    "jp-MarkdownHeadingCollapsed": true
   },
   "source": [
    "## Getting Values From MediaPipe to Train"
   ]
  },
  {
   "cell_type": "code",
   "execution_count": 109,
   "id": "1d098530-f841-4f3e-9dd4-a9858eac786a",
   "metadata": {},
   "outputs": [
    {
     "name": "stdout",
     "output_type": "stream",
     "text": [
      "1404\n"
     ]
    }
   ],
   "source": [
    "facesize = len(results.face_landmarks.landmark)*3\n",
    "print(facesize)"
   ]
  },
  {
   "cell_type": "code",
   "execution_count": 110,
   "id": "34020caf-bba0-4ea3-a192-117ef5c5bd7c",
   "metadata": {},
   "outputs": [
    {
     "name": "stdout",
     "output_type": "stream",
     "text": [
      "132\n"
     ]
    }
   ],
   "source": [
    "posesize = len(results.pose_landmarks.landmark)*4 #4 Because Includes Visiblity \n",
    "print(posesize)"
   ]
  },
  {
   "cell_type": "code",
   "execution_count": 111,
   "id": "64007725-b896-4a41-8f20-ffd8b2b52288",
   "metadata": {},
   "outputs": [
    {
     "name": "stdout",
     "output_type": "stream",
     "text": [
      "63\n"
     ]
    }
   ],
   "source": [
    "lhsize = len(results.left_hand_landmarks.landmark) * 3\n",
    "print(lhsize)"
   ]
  },
  {
   "cell_type": "code",
   "execution_count": 112,
   "id": "806f487e-143c-467d-985d-45d20d4019a4",
   "metadata": {},
   "outputs": [
    {
     "name": "stdout",
     "output_type": "stream",
     "text": [
      "63\n"
     ]
    }
   ],
   "source": [
    "rhsize = len(results.right_hand_landmarks.landmark) * 3\n",
    "print(rhsize)"
   ]
  },
  {
   "cell_type": "code",
   "execution_count": 113,
   "id": "e17b124e-44d3-47f9-b0c9-b1509f4e18e4",
   "metadata": {},
   "outputs": [],
   "source": [
    "def extract_keypoints(results): # Extract The X Y Z Values of All the Points. If not on screen Replace with 0\n",
    "    pose = np.array([[res.x, res.y, res.z, res.visibility] for res in results.pose_landmarks.landmark]).flatten() if results.pose_landmarks else np.zeros(posesize)\n",
    "    face = np.array([[res.x, res.y, res.z] for res in results.face_landmarks.landmark]).flatten() if results.face_landmarks else np.zeros(facesize )\n",
    "    lh = np.array([[res.x, res.y, res.z] for res in results.left_hand_landmarks.landmark]).flatten() if results.left_hand_landmarks else np.zeros(lhsize)\n",
    "    rh = np.array([[res.x, res.y, res.z] for res in results.right_hand_landmarks.landmark]).flatten() if results.right_hand_landmarks else np.zeros(rhsize)\n",
    "    return np.concatenate([pose, face, lh, rh])"
   ]
  },
  {
   "cell_type": "code",
   "execution_count": 114,
   "id": "f7090c9e-eb14-4a3e-9c4a-5081d01315e8",
   "metadata": {},
   "outputs": [
    {
     "name": "stdout",
     "output_type": "stream",
     "text": [
      "1662\n"
     ]
    }
   ],
   "source": [
    "if(facesize+posesize+lhsize+rhsize == len(extract_keypoints(results))):\n",
    "    print(len(extract_keypoints(results)))\n",
    "else:\n",
    "    print(\"Error\")"
   ]
  },
  {
   "cell_type": "markdown",
   "id": "626dacd2-13ba-4cf2-b390-e8ccffbfe154",
   "metadata": {},
   "source": [
    "# Creating Folder for Data Collection Of Training Points\n"
   ]
  },
  {
   "cell_type": "code",
   "execution_count": null,
   "id": "63e7a3d7-c862-4a33-ab8a-fe7849af8be1",
   "metadata": {},
   "outputs": [],
   "source": []
  }
 ],
 "metadata": {
  "kernelspec": {
   "display_name": "Python 3 (ipykernel)",
   "language": "python",
   "name": "python3"
  },
  "language_info": {
   "codemirror_mode": {
    "name": "ipython",
    "version": 3
   },
   "file_extension": ".py",
   "mimetype": "text/x-python",
   "name": "python",
   "nbconvert_exporter": "python",
   "pygments_lexer": "ipython3",
   "version": "3.10.12"
  }
 },
 "nbformat": 4,
 "nbformat_minor": 5
}
