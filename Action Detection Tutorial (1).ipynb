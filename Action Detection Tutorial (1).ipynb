{
 "cells": [
  {
   "cell_type": "markdown",
   "metadata": {},
   "source": [
    "# 1. Import and Install Dependencies"
   ]
  },
  {
   "cell_type": "code",
   "execution_count": 2,
   "metadata": {},
   "outputs": [
    {
     "name": "stdout",
     "output_type": "stream",
     "text": [
      "Defaulting to user installation because normal site-packages is not writeable\n",
      "Requirement already satisfied: tensorflow in /home/f1z/.local/lib/python3.10/site-packages (2.14.0)\n",
      "Collecting tensorflow-gpu\n",
      "  Using cached tensorflow-gpu-2.12.0.tar.gz (2.6 kB)\n",
      "  Preparing metadata (setup.py) ... \u001b[?25ldone\n",
      "\u001b[?25hRequirement already satisfied: opencv-python in /home/f1z/.local/lib/python3.10/site-packages (4.8.1.78)\n",
      "Requirement already satisfied: mediapipe in /home/f1z/.local/lib/python3.10/site-packages (0.10.7)\n",
      "Requirement already satisfied: sklearn in /home/f1z/.local/lib/python3.10/site-packages (0.0.post10)\n",
      "Requirement already satisfied: matplotlib in /home/f1z/.local/lib/python3.10/site-packages (3.8.1)\n",
      "Requirement already satisfied: termcolor>=1.1.0 in /home/f1z/.local/lib/python3.10/site-packages (from tensorflow) (2.3.0)\n",
      "Requirement already satisfied: packaging in /home/f1z/.local/lib/python3.10/site-packages (from tensorflow) (23.2)\n",
      "Requirement already satisfied: protobuf!=4.21.0,!=4.21.1,!=4.21.2,!=4.21.3,!=4.21.4,!=4.21.5,<5.0.0dev,>=3.20.3 in /home/f1z/.local/lib/python3.10/site-packages (from tensorflow) (3.20.3)\n",
      "Requirement already satisfied: tensorflow-io-gcs-filesystem>=0.23.1 in /home/f1z/.local/lib/python3.10/site-packages (from tensorflow) (0.34.0)\n",
      "Requirement already satisfied: grpcio<2.0,>=1.24.3 in /home/f1z/.local/lib/python3.10/site-packages (from tensorflow) (1.59.2)\n",
      "Collecting keras<2.15,>=2.14.0\n",
      "  Using cached keras-2.14.0-py3-none-any.whl (1.7 MB)\n",
      "Requirement already satisfied: opt-einsum>=2.3.2 in /home/f1z/.local/lib/python3.10/site-packages (from tensorflow) (3.3.0)\n",
      "Requirement already satisfied: six>=1.12.0 in /usr/lib/python3/dist-packages (from tensorflow) (1.16.0)\n",
      "Requirement already satisfied: astunparse>=1.6.0 in /home/f1z/.local/lib/python3.10/site-packages (from tensorflow) (1.6.3)\n",
      "Requirement already satisfied: flatbuffers>=23.5.26 in /home/f1z/.local/lib/python3.10/site-packages (from tensorflow) (23.5.26)\n",
      "Requirement already satisfied: gast!=0.5.0,!=0.5.1,!=0.5.2,>=0.2.1 in /home/f1z/.local/lib/python3.10/site-packages (from tensorflow) (0.4.0)\n",
      "Requirement already satisfied: ml-dtypes==0.2.0 in /home/f1z/.local/lib/python3.10/site-packages (from tensorflow) (0.2.0)\n",
      "Requirement already satisfied: absl-py>=1.0.0 in /home/f1z/.local/lib/python3.10/site-packages (from tensorflow) (2.0.0)\n",
      "Requirement already satisfied: numpy>=1.23.5 in /home/f1z/.local/lib/python3.10/site-packages (from tensorflow) (1.24.3)\n",
      "Requirement already satisfied: h5py>=2.9.0 in /home/f1z/.local/lib/python3.10/site-packages (from tensorflow) (3.10.0)\n",
      "Requirement already satisfied: setuptools in /usr/lib/python3/dist-packages (from tensorflow) (59.6.0)\n",
      "Requirement already satisfied: typing-extensions>=3.6.6 in /home/f1z/.local/lib/python3.10/site-packages (from tensorflow) (4.5.0)\n",
      "Collecting tensorflow-estimator<2.15,>=2.14.0\n",
      "  Using cached tensorflow_estimator-2.14.0-py2.py3-none-any.whl (440 kB)\n",
      "Requirement already satisfied: wrapt<1.15,>=1.11.0 in /home/f1z/.local/lib/python3.10/site-packages (from tensorflow) (1.14.1)\n",
      "Requirement already satisfied: google-pasta>=0.1.1 in /home/f1z/.local/lib/python3.10/site-packages (from tensorflow) (0.2.0)\n",
      "Requirement already satisfied: libclang>=13.0.0 in /home/f1z/.local/lib/python3.10/site-packages (from tensorflow) (16.0.6)\n",
      "Collecting tensorboard<2.15,>=2.14\n",
      "  Using cached tensorboard-2.14.1-py3-none-any.whl (5.5 MB)\n",
      "Requirement already satisfied: python_version>\"3.7\" in /home/f1z/.local/lib/python3.10/site-packages (from tensorflow-gpu) (0.0.2)\n",
      "Requirement already satisfied: attrs>=19.1.0 in /home/f1z/.local/lib/python3.10/site-packages (from mediapipe) (23.1.0)\n",
      "Requirement already satisfied: sounddevice>=0.4.4 in /home/f1z/.local/lib/python3.10/site-packages (from mediapipe) (0.4.6)\n",
      "Requirement already satisfied: opencv-contrib-python in /home/f1z/.local/lib/python3.10/site-packages (from mediapipe) (4.8.1.78)\n",
      "Requirement already satisfied: pillow>=8 in /usr/lib/python3/dist-packages (from matplotlib) (9.0.1)\n",
      "Requirement already satisfied: fonttools>=4.22.0 in /home/f1z/.local/lib/python3.10/site-packages (from matplotlib) (4.44.0)\n",
      "Requirement already satisfied: kiwisolver>=1.3.1 in /home/f1z/.local/lib/python3.10/site-packages (from matplotlib) (1.4.5)\n",
      "Requirement already satisfied: pyparsing>=2.3.1 in /usr/lib/python3/dist-packages (from matplotlib) (2.4.7)\n",
      "Requirement already satisfied: contourpy>=1.0.1 in /home/f1z/.local/lib/python3.10/site-packages (from matplotlib) (1.2.0)\n",
      "Requirement already satisfied: python-dateutil>=2.7 in /home/f1z/.local/lib/python3.10/site-packages (from matplotlib) (2.8.2)\n",
      "Requirement already satisfied: cycler>=0.10 in /home/f1z/.local/lib/python3.10/site-packages (from matplotlib) (0.12.1)\n",
      "Requirement already satisfied: wheel<1.0,>=0.23.0 in /usr/lib/python3/dist-packages (from astunparse>=1.6.0->tensorflow) (0.37.1)\n",
      "Requirement already satisfied: CFFI>=1.0 in /home/f1z/.local/lib/python3.10/site-packages (from sounddevice>=0.4.4->mediapipe) (1.16.0)\n",
      "Requirement already satisfied: google-auth-oauthlib<1.1,>=0.5 in /home/f1z/.local/lib/python3.10/site-packages (from tensorboard<2.15,>=2.14->tensorflow) (1.0.0)\n",
      "Requirement already satisfied: google-auth<3,>=1.6.3 in /home/f1z/.local/lib/python3.10/site-packages (from tensorboard<2.15,>=2.14->tensorflow) (2.23.3)\n",
      "Requirement already satisfied: tensorboard-data-server<0.8.0,>=0.7.0 in /home/f1z/.local/lib/python3.10/site-packages (from tensorboard<2.15,>=2.14->tensorflow) (0.7.2)\n",
      "Requirement already satisfied: werkzeug>=1.0.1 in /home/f1z/.local/lib/python3.10/site-packages (from tensorboard<2.15,>=2.14->tensorflow) (3.0.1)\n",
      "Requirement already satisfied: markdown>=2.6.8 in /home/f1z/.local/lib/python3.10/site-packages (from tensorboard<2.15,>=2.14->tensorflow) (3.5.1)\n",
      "Requirement already satisfied: requests<3,>=2.21.0 in /home/f1z/.local/lib/python3.10/site-packages (from tensorboard<2.15,>=2.14->tensorflow) (2.31.0)\n",
      "Requirement already satisfied: pycparser in /home/f1z/.local/lib/python3.10/site-packages (from CFFI>=1.0->sounddevice>=0.4.4->mediapipe) (2.21)\n",
      "Requirement already satisfied: rsa<5,>=3.1.4 in /home/f1z/.local/lib/python3.10/site-packages (from google-auth<3,>=1.6.3->tensorboard<2.15,>=2.14->tensorflow) (4.9)\n",
      "Requirement already satisfied: pyasn1-modules>=0.2.1 in /home/f1z/.local/lib/python3.10/site-packages (from google-auth<3,>=1.6.3->tensorboard<2.15,>=2.14->tensorflow) (0.3.0)\n",
      "Requirement already satisfied: cachetools<6.0,>=2.0.0 in /home/f1z/.local/lib/python3.10/site-packages (from google-auth<3,>=1.6.3->tensorboard<2.15,>=2.14->tensorflow) (5.3.1)\n",
      "Requirement already satisfied: requests-oauthlib>=0.7.0 in /home/f1z/.local/lib/python3.10/site-packages (from google-auth-oauthlib<1.1,>=0.5->tensorboard<2.15,>=2.14->tensorflow) (1.3.1)\n",
      "Requirement already satisfied: urllib3<3,>=1.21.1 in /usr/lib/python3/dist-packages (from requests<3,>=2.21.0->tensorboard<2.15,>=2.14->tensorflow) (1.26.5)\n",
      "Requirement already satisfied: certifi>=2017.4.17 in /usr/lib/python3/dist-packages (from requests<3,>=2.21.0->tensorboard<2.15,>=2.14->tensorflow) (2020.6.20)\n",
      "Requirement already satisfied: idna<4,>=2.5 in /usr/lib/python3/dist-packages (from requests<3,>=2.21.0->tensorboard<2.15,>=2.14->tensorflow) (3.3)\n",
      "Requirement already satisfied: charset-normalizer<4,>=2 in /home/f1z/.local/lib/python3.10/site-packages (from requests<3,>=2.21.0->tensorboard<2.15,>=2.14->tensorflow) (3.3.0)\n",
      "Requirement already satisfied: MarkupSafe>=2.1.1 in /home/f1z/.local/lib/python3.10/site-packages (from werkzeug>=1.0.1->tensorboard<2.15,>=2.14->tensorflow) (2.1.3)\n",
      "Requirement already satisfied: pyasn1<0.6.0,>=0.4.6 in /home/f1z/.local/lib/python3.10/site-packages (from pyasn1-modules>=0.2.1->google-auth<3,>=1.6.3->tensorboard<2.15,>=2.14->tensorflow) (0.5.0)\n",
      "Requirement already satisfied: oauthlib>=3.0.0 in /usr/lib/python3/dist-packages (from requests-oauthlib>=0.7.0->google-auth-oauthlib<1.1,>=0.5->tensorboard<2.15,>=2.14->tensorflow) (3.2.0)\n",
      "Building wheels for collected packages: tensorflow-gpu\n",
      "  Building wheel for tensorflow-gpu (setup.py) ... \u001b[?25lerror\n",
      "  \u001b[1;31merror\u001b[0m: \u001b[1msubprocess-exited-with-error\u001b[0m\n",
      "  \n",
      "  \u001b[31m×\u001b[0m \u001b[32mpython setup.py bdist_wheel\u001b[0m did not run successfully.\n",
      "  \u001b[31m│\u001b[0m exit code: \u001b[1;36m1\u001b[0m\n",
      "  \u001b[31m╰─>\u001b[0m \u001b[31m[18 lines of output]\u001b[0m\n",
      "  \u001b[31m   \u001b[0m Traceback (most recent call last):\n",
      "  \u001b[31m   \u001b[0m   File \"<string>\", line 2, in <module>\n",
      "  \u001b[31m   \u001b[0m   File \"<pip-setuptools-caller>\", line 34, in <module>\n",
      "  \u001b[31m   \u001b[0m   File \"/tmp/pip-install-sl_x4v7e/tensorflow-gpu_95d6fdc754ea4d839deecb924cc0ce8f/setup.py\", line 37, in <module>\n",
      "  \u001b[31m   \u001b[0m     raise Exception(TF_REMOVAL_WARNING)\n",
      "  \u001b[31m   \u001b[0m Exception:\n",
      "  \u001b[31m   \u001b[0m \n",
      "  \u001b[31m   \u001b[0m =========================================================\n",
      "  \u001b[31m   \u001b[0m The \"tensorflow-gpu\" package has been removed!\n",
      "  \u001b[31m   \u001b[0m \n",
      "  \u001b[31m   \u001b[0m Please install \"tensorflow\" instead.\n",
      "  \u001b[31m   \u001b[0m \n",
      "  \u001b[31m   \u001b[0m Other than the name, the two packages have been identical\n",
      "  \u001b[31m   \u001b[0m since TensorFlow 2.1, or roughly since Sep 2019. For more\n",
      "  \u001b[31m   \u001b[0m information, see: pypi.org/project/tensorflow-gpu\n",
      "  \u001b[31m   \u001b[0m =========================================================\n",
      "  \u001b[31m   \u001b[0m \n",
      "  \u001b[31m   \u001b[0m \n",
      "  \u001b[31m   \u001b[0m \u001b[31m[end of output]\u001b[0m\n",
      "  \n",
      "  \u001b[1;35mnote\u001b[0m: This error originates from a subprocess, and is likely not a problem with pip.\n",
      "\u001b[31m  ERROR: Failed building wheel for tensorflow-gpu\u001b[0m\u001b[31m\n",
      "\u001b[0m\u001b[?25h  Running setup.py clean for tensorflow-gpu\n",
      "Failed to build tensorflow-gpu\n",
      "Installing collected packages: tensorflow-gpu, tensorflow-estimator, keras, tensorboard\n",
      "  Running setup.py install for tensorflow-gpu ... \u001b[?25lerror\n",
      "  \u001b[1;31merror\u001b[0m: \u001b[1msubprocess-exited-with-error\u001b[0m\n",
      "  \n",
      "  \u001b[31m×\u001b[0m \u001b[32mRunning setup.py install for tensorflow-gpu\u001b[0m did not run successfully.\n",
      "  \u001b[31m│\u001b[0m exit code: \u001b[1;36m1\u001b[0m\n",
      "  \u001b[31m╰─>\u001b[0m \u001b[31m[18 lines of output]\u001b[0m\n",
      "  \u001b[31m   \u001b[0m Traceback (most recent call last):\n",
      "  \u001b[31m   \u001b[0m   File \"<string>\", line 2, in <module>\n",
      "  \u001b[31m   \u001b[0m   File \"<pip-setuptools-caller>\", line 34, in <module>\n",
      "  \u001b[31m   \u001b[0m   File \"/tmp/pip-install-sl_x4v7e/tensorflow-gpu_95d6fdc754ea4d839deecb924cc0ce8f/setup.py\", line 37, in <module>\n",
      "  \u001b[31m   \u001b[0m     raise Exception(TF_REMOVAL_WARNING)\n",
      "  \u001b[31m   \u001b[0m Exception:\n",
      "  \u001b[31m   \u001b[0m \n",
      "  \u001b[31m   \u001b[0m =========================================================\n",
      "  \u001b[31m   \u001b[0m The \"tensorflow-gpu\" package has been removed!\n",
      "  \u001b[31m   \u001b[0m \n",
      "  \u001b[31m   \u001b[0m Please install \"tensorflow\" instead.\n",
      "  \u001b[31m   \u001b[0m \n",
      "  \u001b[31m   \u001b[0m Other than the name, the two packages have been identical\n",
      "  \u001b[31m   \u001b[0m since TensorFlow 2.1, or roughly since Sep 2019. For more\n",
      "  \u001b[31m   \u001b[0m information, see: pypi.org/project/tensorflow-gpu\n",
      "  \u001b[31m   \u001b[0m =========================================================\n",
      "  \u001b[31m   \u001b[0m \n",
      "  \u001b[31m   \u001b[0m \n",
      "  \u001b[31m   \u001b[0m \u001b[31m[end of output]\u001b[0m\n",
      "  \n",
      "  \u001b[1;35mnote\u001b[0m: This error originates from a subprocess, and is likely not a problem with pip.\n",
      "\u001b[1;31merror\u001b[0m: \u001b[1mlegacy-install-failure\u001b[0m\n",
      "\n",
      "\u001b[31m×\u001b[0m Encountered error while trying to install package.\n",
      "\u001b[31m╰─>\u001b[0m tensorflow-gpu\n",
      "\n",
      "\u001b[1;35mnote\u001b[0m: This is an issue with the package mentioned above, not pip.\n",
      "\u001b[1;36mhint\u001b[0m: See above for output from the failure.\n",
      "\u001b[?25h"
     ]
    }
   ],
   "source": [
    "!pip install tensorflow tensorflow-gpu opencv-python mediapipe sklearn matplotlib"
   ]
  },
  {
   "cell_type": "code",
   "execution_count": 20,
   "metadata": {},
   "outputs": [],
   "source": [
    "import cv2\n",
    "import numpy as np\n",
    "import os\n",
    "from matplotlib import pyplot as plt\n",
    "import time\n",
    "import mediapipe as mp"
   ]
  },
  {
   "cell_type": "markdown",
   "metadata": {},
   "source": [
    "# 2. Keypoints using MP Holistic"
   ]
  },
  {
   "cell_type": "code",
   "execution_count": 21,
   "metadata": {},
   "outputs": [],
   "source": [
    "mp_holistic = mp.solutions.holistic # Holistic model\n",
    "mp_drawing = mp.solutions.drawing_utils # Drawing utilities"
   ]
  },
  {
   "cell_type": "code",
   "execution_count": 22,
   "metadata": {},
   "outputs": [],
   "source": [
    "def mediapipe_detection(image, model):\n",
    "    image = cv2.cvtColor(image, cv2.COLOR_BGR2RGB) # COLOR CONVERSION BGR 2 RGB\n",
    "    image.flags.writeable = False                  # Image is no longer writeable\n",
    "    results = model.process(image)                 # Make prediction\n",
    "    image.flags.writeable = True                   # Image is now writeable \n",
    "    image = cv2.cvtColor(image, cv2.COLOR_RGB2BGR) # COLOR COVERSION RGB 2 BGR\n",
    "    return image, results"
   ]
  },
  {
   "cell_type": "code",
   "execution_count": 23,
   "metadata": {},
   "outputs": [],
   "source": [
    "def draw_landmarks(image, results):\n",
    "    mp_drawing.draw_landmarks(image, results.face_landmarks, mp_holistic.FACEMESH_TESSELATION) # Draw face connections\n",
    "    mp_drawing.draw_landmarks(image, results.pose_landmarks, mp_holistic.POSE_CONNECTIONS) # Draw pose connections\n",
    "    mp_drawing.draw_landmarks(image, results.left_hand_landmarks, mp_holistic.HAND_CONNECTIONS) # Draw left hand connections\n",
    "    mp_drawing.draw_landmarks(image, results.right_hand_landmarks, mp_holistic.HAND_CONNECTIONS) # Draw right hand connections"
   ]
  },
  {
   "cell_type": "code",
   "execution_count": 24,
   "metadata": {},
   "outputs": [],
   "source": [
    "def draw_styled_landmarks(image, results):\n",
    "    # Draw face connections\n",
    "    mp_drawing.draw_landmarks(image, results.face_landmarks, mp_holistic.FACEMESH_TESSELATION, \n",
    "                             mp_drawing.DrawingSpec(color=(80,110,10), thickness=1, circle_radius=1), \n",
    "                             mp_drawing.DrawingSpec(color=(80,256,121), thickness=1, circle_radius=1)\n",
    "                             ) \n",
    "    # Draw pose connections\n",
    "    mp_drawing.draw_landmarks(image, results.pose_landmarks, mp_holistic.POSE_CONNECTIONS,\n",
    "                             mp_drawing.DrawingSpec(color=(80,22,10), thickness=2, circle_radius=4), \n",
    "                             mp_drawing.DrawingSpec(color=(80,44,121), thickness=2, circle_radius=2)\n",
    "                             ) \n",
    "    # Draw left hand connections\n",
    "    mp_drawing.draw_landmarks(image, results.left_hand_landmarks, mp_holistic.HAND_CONNECTIONS, \n",
    "                             mp_drawing.DrawingSpec(color=(121,22,76), thickness=2, circle_radius=4), \n",
    "                             mp_drawing.DrawingSpec(color=(121,44,250), thickness=2, circle_radius=2)\n",
    "                             ) \n",
    "    # Draw right hand connections  \n",
    "    mp_drawing.draw_landmarks(image, results.right_hand_landmarks, mp_holistic.HAND_CONNECTIONS, \n",
    "                             mp_drawing.DrawingSpec(color=(245,117,66), thickness=2, circle_radius=4), \n",
    "                             mp_drawing.DrawingSpec(color=(245,66,230), thickness=2, circle_radius=2)\n",
    "                             ) "
   ]
  },
  {
   "cell_type": "code",
   "execution_count": 15,
   "metadata": {},
   "outputs": [
    {
     "name": "stderr",
     "output_type": "stream",
     "text": [
      "INFO: Created TensorFlow Lite XNNPACK delegate for CPU.\n"
     ]
    },
    {
     "name": "stdout",
     "output_type": "stream",
     "text": [
      "<class 'mediapipe.python.solution_base.SolutionOutputs'>\n",
      "<class 'mediapipe.python.solution_base.SolutionOutputs'>\n",
      "<class 'mediapipe.python.solution_base.SolutionOutputs'>\n"
     ]
    },
    {
     "name": "stderr",
     "output_type": "stream",
     "text": [
      "Warning: Ignoring XDG_SESSION_TYPE=wayland on Gnome. Use QT_QPA_PLATFORM=wayland to run on Wayland anyway.\n"
     ]
    },
    {
     "name": "stdout",
     "output_type": "stream",
     "text": [
      "<class 'mediapipe.python.solution_base.SolutionOutputs'>\n",
      "<class 'mediapipe.python.solution_base.SolutionOutputs'>\n",
      "<class 'mediapipe.python.solution_base.SolutionOutputs'>\n",
      "<class 'mediapipe.python.solution_base.SolutionOutputs'>\n",
      "<class 'mediapipe.python.solution_base.SolutionOutputs'>\n",
      "<class 'mediapipe.python.solution_base.SolutionOutputs'>\n",
      "<class 'mediapipe.python.solution_base.SolutionOutputs'>\n",
      "<class 'mediapipe.python.solution_base.SolutionOutputs'>\n",
      "<class 'mediapipe.python.solution_base.SolutionOutputs'>\n",
      "<class 'mediapipe.python.solution_base.SolutionOutputs'>\n",
      "<class 'mediapipe.python.solution_base.SolutionOutputs'>\n",
      "<class 'mediapipe.python.solution_base.SolutionOutputs'>\n",
      "<class 'mediapipe.python.solution_base.SolutionOutputs'>\n",
      "<class 'mediapipe.python.solution_base.SolutionOutputs'>\n",
      "<class 'mediapipe.python.solution_base.SolutionOutputs'>\n",
      "<class 'mediapipe.python.solution_base.SolutionOutputs'>\n",
      "<class 'mediapipe.python.solution_base.SolutionOutputs'>\n",
      "<class 'mediapipe.python.solution_base.SolutionOutputs'>\n",
      "<class 'mediapipe.python.solution_base.SolutionOutputs'>\n",
      "<class 'mediapipe.python.solution_base.SolutionOutputs'>\n",
      "<class 'mediapipe.python.solution_base.SolutionOutputs'>\n",
      "<class 'mediapipe.python.solution_base.SolutionOutputs'>\n"
     ]
    }
   ],
   "source": [
    "cap = cv2.VideoCapture(0)\n",
    "# Set mediapipe model \n",
    "with mp_holistic.Holistic(min_detection_confidence=0.5, min_tracking_confidence=0.5) as holistic:\n",
    "    while cap.isOpened():\n",
    "\n",
    "        # Read feed\n",
    "        ret, frame = cap.read()\n",
    "\n",
    "        # Make detections\n",
    "        image, results = mediapipe_detection(frame, holistic)\n",
    "        print(results)\n",
    "        \n",
    "        # Draw landmarks\n",
    "        draw_styled_landmarks(image, results)\n",
    "\n",
    "        # Show to screen\n",
    "        cv2.imshow('OpenCV Feed', image)\n",
    "\n",
    "        # Break gracefully\n",
    "        if cv2.waitKey(10) & 0xFF == ord('q'):\n",
    "            break\n",
    "    cap.release()\n",
    "    cv2.destroyAllWindows()"
   ]
  },
  {
   "cell_type": "code",
   "execution_count": 7,
   "metadata": {},
   "outputs": [
    {
     "ename": "AttributeError",
     "evalue": "'NoneType' object has no attribute 'landmark'",
     "output_type": "error",
     "traceback": [
      "\u001b[0;31m---------------------------------------------------------------------------\u001b[0m",
      "\u001b[0;31mAttributeError\u001b[0m                            Traceback (most recent call last)",
      "Cell \u001b[0;32mIn[7], line 1\u001b[0m\n\u001b[0;32m----> 1\u001b[0m \u001b[38;5;28mlen\u001b[39m(\u001b[43mresults\u001b[49m\u001b[38;5;241;43m.\u001b[39;49m\u001b[43mleft_hand_landmarks\u001b[49m\u001b[38;5;241;43m.\u001b[39;49m\u001b[43mlandmark\u001b[49m)\n",
      "\u001b[0;31mAttributeError\u001b[0m: 'NoneType' object has no attribute 'landmark'"
     ]
    }
   ],
   "source": [
    "len(results.left_hand_landmarks.landmark)"
   ]
  },
  {
   "cell_type": "code",
   "execution_count": null,
   "metadata": {},
   "outputs": [],
   "source": [
    "results"
   ]
  },
  {
   "cell_type": "code",
   "execution_count": null,
   "metadata": {},
   "outputs": [],
   "source": [
    "draw_landmarks(frame, results)"
   ]
  },
  {
   "cell_type": "code",
   "execution_count": 25,
   "metadata": {},
   "outputs": [
    {
     "data": {
      "text/plain": [
       "<matplotlib.image.AxesImage at 0x7f71a6c92fb0>"
      ]
     },
     "execution_count": 25,
     "metadata": {},
     "output_type": "execute_result"
    },
    {
     "data": {
      "image/png": "[encoded data removed]",
      "text/plain": [
       "<Figure size 640x480 with 1 Axes>"
      ]
     },
     "metadata": {},
     "output_type": "display_data"
    }
   ],
   "source": [
    "plt.imshow(cv2.cvtColor(frame, cv2.COLOR_BGR2RGB))"
   ]
  },
  {
   "cell_type": "markdown",
   "metadata": {},
   "source": [
    "# 3. Extract Keypoint Values"
   ]
  },
  {
   "cell_type": "code",
   "execution_count": 8,
   "metadata": {},
   "outputs": [
    {
     "ename": "AttributeError",
     "evalue": "'NoneType' object has no attribute 'landmark'",
     "output_type": "error",
     "traceback": [
      "\u001b[0;31m---------------------------------------------------------------------------\u001b[0m",
      "\u001b[0;31mAttributeError\u001b[0m                            Traceback (most recent call last)",
      "Cell \u001b[0;32mIn[8], line 1\u001b[0m\n\u001b[0;32m----> 1\u001b[0m \u001b[38;5;28mlen\u001b[39m(\u001b[43mresults\u001b[49m\u001b[38;5;241;43m.\u001b[39;49m\u001b[43mleft_hand_landmarks\u001b[49m\u001b[38;5;241;43m.\u001b[39;49m\u001b[43mlandmark\u001b[49m)\n",
      "\u001b[0;31mAttributeError\u001b[0m: 'NoneType' object has no attribute 'landmark'"
     ]
    }
   ],
   "source": [
    "len(results.left_hand_landmarks.landmark)"
   ]
  },
  {
   "cell_type": "code",
   "execution_count": 9,
   "metadata": {},
   "outputs": [],
   "source": [
    "pose = []\n",
    "for res in results.pose_landmarks.landmark:\n",
    "    test = np.array([res.x, res.y, res.z, res.visibility])\n",
    "    pose.append(test)"
   ]
  },
  {
   "cell_type": "code",
   "execution_count": 10,
   "metadata": {},
   "outputs": [],
   "source": [
    "pose = np.array([[res.x, res.y, res.z, res.visibility] for res in results.pose_landmarks.landmark]).flatten() if results.pose_landmarks else np.zeros(132)\n",
    "face = np.array([[res.x, res.y, res.z] for res in results.face_landmarks.landmark]).flatten() if results.face_landmarks else np.zeros(1404)\n",
    "lh = np.array([[res.x, res.y, res.z] for res in results.left_hand_landmarks.landmark]).flatten() if results.left_hand_landmarks else np.zeros(21*3)\n",
    "rh = np.array([[res.x, res.y, res.z] for res in results.right_hand_landmarks.landmark]).flatten() if results.right_hand_landmarks else np.zeros(21*3)"
   ]
  },
  {
   "cell_type": "code",
   "execution_count": 11,
   "metadata": {},
   "outputs": [
    {
     "ename": "IndentationError",
     "evalue": "unexpected indent (1373052555.py, line 2)",
     "output_type": "error",
     "traceback": [
      "\u001b[0;36m  Cell \u001b[0;32mIn[11], line 2\u001b[0;36m\u001b[0m\n\u001b[0;31m    if results.face_landmarks\u001b[0m\n\u001b[0m    ^\u001b[0m\n\u001b[0;31mIndentationError\u001b[0m\u001b[0;31m:\u001b[0m unexpected indent\n"
     ]
    }
   ],
   "source": [
    "face = np.array([[res.x, res.y, res.z] for res in results.face_landmarks.landmark]).flatten() \n",
    "    if results.face_landmarks \n",
    "    else np.zeros(1404)\n"
   ]
  },
  {
   "cell_type": "code",
   "execution_count": 12,
   "metadata": {},
   "outputs": [],
   "source": [
    "def extract_keypoints(results):\n",
    "    pose = np.array([[res.x, res.y, res.z, res.visibility] for res in results.pose_landmarks.landmark]).flatten() if results.pose_landmarks else np.zeros(33*4)\n",
    "    face = np.array([[res.x, res.y, res.z] for res in results.face_landmarks.landmark]).flatten() if results.face_landmarks else np.zeros(468*3)\n",
    "    lh = np.array([[res.x, res.y, res.z] for res in results.left_hand_landmarks.landmark]).flatten() if results.left_hand_landmarks else np.zeros(21*3)\n",
    "    rh = np.array([[res.x, res.y, res.z] for res in results.right_hand_landmarks.landmark]).flatten() if results.right_hand_landmarks else np.zeros(21*3)\n",
    "    return np.concatenate([pose, face, lh, rh])"
   ]
  },
  {
   "cell_type": "code",
   "execution_count": 13,
   "metadata": {},
   "outputs": [],
   "source": [
    "result_test = extract_keypoints(results)"
   ]
  },
  {
   "cell_type": "code",
   "execution_count": 14,
   "metadata": {},
   "outputs": [
    {
     "data": {
      "text/plain": [
       "array([0.4585073 , 0.91092449, 0.03943586, ..., 0.        , 0.        ,\n",
       "       0.        ])"
      ]
     },
     "execution_count": 14,
     "metadata": {},
     "output_type": "execute_result"
    }
   ],
   "source": [
    "result_test"
   ]
  },
  {
   "cell_type": "code",
   "execution_count": 33,
   "metadata": {},
   "outputs": [
    {
     "data": {
      "text/plain": [
       "1662"
      ]
     },
     "execution_count": 33,
     "metadata": {},
     "output_type": "execute_result"
    }
   ],
   "source": [
    "468*3+33*4+21*3+21*3"
   ]
  },
  {
   "cell_type": "code",
   "execution_count": 34,
   "metadata": {},
   "outputs": [],
   "source": [
    "np.save('0', result_test)"
   ]
  },
  {
   "cell_type": "code",
   "execution_count": 35,
   "metadata": {},
   "outputs": [
    {
     "data": {
      "text/plain": [
       "array([ 0.54748517,  0.91096044, -1.49239898, ...,  0.        ,\n",
       "        0.        ,  0.        ])"
      ]
     },
     "execution_count": 35,
     "metadata": {},
     "output_type": "execute_result"
    }
   ],
   "source": [
    "np.load('0.npy')"
   ]
  },
  {
   "cell_type": "markdown",
   "metadata": {},
   "source": [
    "# 4. Setup Folders for Collection"
   ]
  },
  {
   "cell_type": "code",
   "execution_count": 18,
   "metadata": {},
   "outputs": [],
   "source": [
    "# Path for exported data, numpy arrays\n",
    "DATA_PATH = os.path.join('MP_Data') \n",
    "\n",
    "# Actions that we try to detect\n",
    "actions = np.array(['Hello' , 'I Love You' , 'Thank You' , 'Yes', 'No'])\n",
    "\n",
    "# Thirty videos worth of data\n",
    "no_sequences = 30\n",
    "\n",
    "# Videos are going to be 30 frames in length\n",
    "sequence_length = 20"
   ]
  },
  {
   "cell_type": "code",
   "execution_count": 19,
   "metadata": {},
   "outputs": [],
   "source": [
    "# hello\n",
    "## 0\n",
    "## 1\n",
    "## 2\n",
    "## ...\n",
    "## 29\n",
    "# thanks\n",
    "\n",
    "# I love you"
   ]
  },
  {
   "cell_type": "code",
   "execution_count": 20,
   "metadata": {},
   "outputs": [],
   "source": [
    "for action in actions: \n",
    "    for sequence in range(no_sequences):\n",
    "        try: \n",
    "            os.makedirs(os.path.join(DATA_PATH, action, str(sequence)))\n",
    "        except:\n",
    "            pass"
   ]
  },
  {
   "cell_type": "markdown",
   "metadata": {},
   "source": [
    "# 5. Collect Keypoint Values for Training and Testing"
   ]
  },
  {
   "cell_type": "code",
   "execution_count": 56,
   "metadata": {},
   "outputs": [
    {
     "ename": "KeyboardInterrupt",
     "evalue": "",
     "output_type": "error",
     "traceback": [
      "\u001b[0;31m---------------------------------------------------------------------------\u001b[0m",
      "\u001b[0;31mKeyboardInterrupt\u001b[0m                         Traceback (most recent call last)",
      "Cell \u001b[0;32mIn[56], line 17\u001b[0m\n\u001b[1;32m     14\u001b[0m                 ret, frame \u001b[38;5;241m=\u001b[39m cap\u001b[38;5;241m.\u001b[39mread()\n\u001b[1;32m     16\u001b[0m                 \u001b[38;5;66;03m# Make detections\u001b[39;00m\n\u001b[0;32m---> 17\u001b[0m                 image, results \u001b[38;5;241m=\u001b[39m \u001b[43mmediapipe_detection\u001b[49m\u001b[43m(\u001b[49m\u001b[43mframe\u001b[49m\u001b[43m,\u001b[49m\u001b[43m \u001b[49m\u001b[43mholistic\u001b[49m\u001b[43m)\u001b[49m\n\u001b[1;32m     18\u001b[0m \u001b[38;5;66;03m#                 print(results)\u001b[39;00m\n\u001b[1;32m     19\u001b[0m \n\u001b[1;32m     20\u001b[0m                 \u001b[38;5;66;03m# Draw landmarks\u001b[39;00m\n\u001b[1;32m     21\u001b[0m                 draw_styled_landmarks(image, results)\n",
      "Cell \u001b[0;32mIn[18], line 4\u001b[0m, in \u001b[0;36mmediapipe_detection\u001b[0;34m(image, model)\u001b[0m\n\u001b[1;32m      2\u001b[0m image \u001b[38;5;241m=\u001b[39m cv2\u001b[38;5;241m.\u001b[39mcvtColor(image, cv2\u001b[38;5;241m.\u001b[39mCOLOR_BGR2RGB) \u001b[38;5;66;03m# COLOR CONVERSION BGR 2 RGB\u001b[39;00m\n\u001b[1;32m      3\u001b[0m image\u001b[38;5;241m.\u001b[39mflags\u001b[38;5;241m.\u001b[39mwriteable \u001b[38;5;241m=\u001b[39m \u001b[38;5;28;01mFalse\u001b[39;00m                  \u001b[38;5;66;03m# Image is no longer writeable\u001b[39;00m\n\u001b[0;32m----> 4\u001b[0m results \u001b[38;5;241m=\u001b[39m \u001b[43mmodel\u001b[49m\u001b[38;5;241;43m.\u001b[39;49m\u001b[43mprocess\u001b[49m\u001b[43m(\u001b[49m\u001b[43mimage\u001b[49m\u001b[43m)\u001b[49m                 \u001b[38;5;66;03m# Make prediction\u001b[39;00m\n\u001b[1;32m      5\u001b[0m image\u001b[38;5;241m.\u001b[39mflags\u001b[38;5;241m.\u001b[39mwriteable \u001b[38;5;241m=\u001b[39m \u001b[38;5;28;01mTrue\u001b[39;00m                   \u001b[38;5;66;03m# Image is now writeable \u001b[39;00m\n\u001b[1;32m      6\u001b[0m image \u001b[38;5;241m=\u001b[39m cv2\u001b[38;5;241m.\u001b[39mcvtColor(image, cv2\u001b[38;5;241m.\u001b[39mCOLOR_RGB2BGR) \u001b[38;5;66;03m# COLOR COVERSION RGB 2 BGR\u001b[39;00m\n",
      "File \u001b[0;32m~/.local/lib/python3.10/site-packages/mediapipe/python/solutions/holistic.py:160\u001b[0m, in \u001b[0;36mHolistic.process\u001b[0;34m(self, image)\u001b[0m\n\u001b[1;32m    136\u001b[0m \u001b[38;5;28;01mdef\u001b[39;00m \u001b[38;5;21mprocess\u001b[39m(\u001b[38;5;28mself\u001b[39m, image: np\u001b[38;5;241m.\u001b[39mndarray) \u001b[38;5;241m-\u001b[39m\u001b[38;5;241m>\u001b[39m NamedTuple:\n\u001b[1;32m    137\u001b[0m \u001b[38;5;250m  \u001b[39m\u001b[38;5;124;03m\"\"\"Processes an RGB image and returns the pose landmarks, left and right hand landmarks, and face landmarks on the most prominent person detected.\u001b[39;00m\n\u001b[1;32m    138\u001b[0m \n\u001b[1;32m    139\u001b[0m \u001b[38;5;124;03m  Args:\u001b[39;00m\n\u001b[0;32m   (...)\u001b[0m\n\u001b[1;32m    157\u001b[0m \u001b[38;5;124;03m         \"enable_segmentation\" is set to true.\u001b[39;00m\n\u001b[1;32m    158\u001b[0m \u001b[38;5;124;03m  \"\"\"\u001b[39;00m\n\u001b[0;32m--> 160\u001b[0m   results \u001b[38;5;241m=\u001b[39m \u001b[38;5;28;43msuper\u001b[39;49m\u001b[43m(\u001b[49m\u001b[43m)\u001b[49m\u001b[38;5;241;43m.\u001b[39;49m\u001b[43mprocess\u001b[49m\u001b[43m(\u001b[49m\u001b[43minput_data\u001b[49m\u001b[38;5;241;43m=\u001b[39;49m\u001b[43m{\u001b[49m\u001b[38;5;124;43m'\u001b[39;49m\u001b[38;5;124;43mimage\u001b[39;49m\u001b[38;5;124;43m'\u001b[39;49m\u001b[43m:\u001b[49m\u001b[43m \u001b[49m\u001b[43mimage\u001b[49m\u001b[43m}\u001b[49m\u001b[43m)\u001b[49m\n\u001b[1;32m    161\u001b[0m   \u001b[38;5;28;01mif\u001b[39;00m results\u001b[38;5;241m.\u001b[39mpose_landmarks:  \u001b[38;5;66;03m# pytype: disable=attribute-error\u001b[39;00m\n\u001b[1;32m    162\u001b[0m     \u001b[38;5;28;01mfor\u001b[39;00m landmark \u001b[38;5;129;01min\u001b[39;00m results\u001b[38;5;241m.\u001b[39mpose_landmarks\u001b[38;5;241m.\u001b[39mlandmark:  \u001b[38;5;66;03m# pytype: disable=attribute-error\u001b[39;00m\n",
      "File \u001b[0;32m~/.local/lib/python3.10/site-packages/mediapipe/python/solution_base.py:372\u001b[0m, in \u001b[0;36mSolutionBase.process\u001b[0;34m(self, input_data)\u001b[0m\n\u001b[1;32m    366\u001b[0m   \u001b[38;5;28;01melse\u001b[39;00m:\n\u001b[1;32m    367\u001b[0m     \u001b[38;5;28mself\u001b[39m\u001b[38;5;241m.\u001b[39m_graph\u001b[38;5;241m.\u001b[39madd_packet_to_input_stream(\n\u001b[1;32m    368\u001b[0m         stream\u001b[38;5;241m=\u001b[39mstream_name,\n\u001b[1;32m    369\u001b[0m         packet\u001b[38;5;241m=\u001b[39m\u001b[38;5;28mself\u001b[39m\u001b[38;5;241m.\u001b[39m_make_packet(input_stream_type,\n\u001b[1;32m    370\u001b[0m                                  data)\u001b[38;5;241m.\u001b[39mat(\u001b[38;5;28mself\u001b[39m\u001b[38;5;241m.\u001b[39m_simulated_timestamp))\n\u001b[0;32m--> 372\u001b[0m \u001b[38;5;28;43mself\u001b[39;49m\u001b[38;5;241;43m.\u001b[39;49m\u001b[43m_graph\u001b[49m\u001b[38;5;241;43m.\u001b[39;49m\u001b[43mwait_until_idle\u001b[49m\u001b[43m(\u001b[49m\u001b[43m)\u001b[49m\n\u001b[1;32m    373\u001b[0m \u001b[38;5;66;03m# Create a NamedTuple object where the field names are mapping to the graph\u001b[39;00m\n\u001b[1;32m    374\u001b[0m \u001b[38;5;66;03m# output stream names.\u001b[39;00m\n\u001b[1;32m    375\u001b[0m solution_outputs \u001b[38;5;241m=\u001b[39m collections\u001b[38;5;241m.\u001b[39mnamedtuple(\n\u001b[1;32m    376\u001b[0m     \u001b[38;5;124m'\u001b[39m\u001b[38;5;124mSolutionOutputs\u001b[39m\u001b[38;5;124m'\u001b[39m, \u001b[38;5;28mself\u001b[39m\u001b[38;5;241m.\u001b[39m_output_stream_type_info\u001b[38;5;241m.\u001b[39mkeys())\n",
      "\u001b[0;31mKeyboardInterrupt\u001b[0m: "
     ]
    }
   ],
   "source": [
    "cap = cv2.VideoCapture(0)\n",
    "# Set mediapipe model \n",
    "with mp_holistic.Holistic(min_detection_confidence=0.5, min_tracking_confidence=0.5) as holistic:\n",
    "    \n",
    "    # NEW LOOP\n",
    "    # Loop through actions\n",
    "    for action in actions:\n",
    "        # Loop through sequences aka videos\n",
    "        for sequence in range(no_sequences):\n",
    "            # Loop through video length aka sequence length\n",
    "            for frame_num in range(sequence_length):\n",
    "\n",
    "                # Read feed\n",
    "                ret, frame = cap.read()\n",
    "\n",
    "                # Make detections\n",
    "                image, results = mediapipe_detection(frame, holistic)\n",
    "#                 print(results)\n",
    "\n",
    "                # Draw landmarks\n",
    "                draw_styled_landmarks(image, results)\n",
    "                \n",
    "                # NEW Apply wait logic\n",
    "                if frame_num == 0: \n",
    "                    cv2.putText(image, 'STARTING COLLECTION', (120,200), \n",
    "                               cv2.FONT_HERSHEY_SIMPLEX, 1, (0,255, 0), 4, cv2.LINE_AA)\n",
    "                    cv2.putText(image, 'Collecting frames for {} Video Number {}'.format(action, sequence), (15,12), \n",
    "                               cv2.FONT_HERSHEY_SIMPLEX, 0.5, (0, 0, 255), 1, cv2.LINE_AA)\n",
    "                    # Show to screen\n",
    "                    cv2.imshow('OpenCV Feed', image)\n",
    "                    cv2.waitKey(2000)\n",
    "                else: \n",
    "                    cv2.putText(image, 'Collecting frames for {} Video Number {}'.format(action, sequence), (15,12), \n",
    "                               cv2.FONT_HERSHEY_SIMPLEX, 0.5, (0, 0, 255), 1, cv2.LINE_AA)\n",
    "                    # Show to screen\n",
    "                    cv2.imshow('OpenCV Feed', image)\n",
    "                \n",
    "                # NEW Export keypoints\n",
    "                keypoints = extract_keypoints(results)\n",
    "                npy_path = os.path.join(DATA_PATH, action, str(sequence), str(frame_num))\n",
    "                np.save(npy_path, keypoints)\n",
    "\n",
    "                # Break gracefully\n",
    "                if cv2.waitKey(10) & 0xFF == ord('q'):\n",
    "                    break\n",
    "                    \n",
    "    cap.release()\n",
    "    cv2.destroyAllWindows()"
   ]
  },
  {
   "cell_type": "code",
   "execution_count": null,
   "metadata": {},
   "outputs": [],
   "source": [
    "cap.release()\n",
    "cv2.destroyAllWindows()"
   ]
  },
  {
   "cell_type": "markdown",
   "metadata": {},
   "source": [
    "# 6. Preprocess Data and Create Labels and Features"
   ]
  },
  {
   "cell_type": "code",
   "execution_count": 25,
   "metadata": {},
   "outputs": [],
   "source": [
    "from sklearn.model_selection import train_test_split\n",
    "from tensorflow.keras.utils import to_categorical"
   ]
  },
  {
   "cell_type": "code",
   "execution_count": 26,
   "metadata": {},
   "outputs": [
    {
     "ename": "NameError",
     "evalue": "name 'actions' is not defined",
     "output_type": "error",
     "traceback": [
      "\u001b[0;31m---------------------------------------------------------------------------\u001b[0m",
      "\u001b[0;31mNameError\u001b[0m                                 Traceback (most recent call last)",
      "Cell \u001b[0;32mIn[26], line 1\u001b[0m\n\u001b[0;32m----> 1\u001b[0m label_map \u001b[38;5;241m=\u001b[39m {label:num \u001b[38;5;28;01mfor\u001b[39;00m num, label \u001b[38;5;129;01min\u001b[39;00m \u001b[38;5;28menumerate\u001b[39m(\u001b[43mactions\u001b[49m)}\n",
      "\u001b[0;31mNameError\u001b[0m: name 'actions' is not defined"
     ]
    }
   ],
   "source": [
    "label_map = {label:num for num, label in enumerate(actions)}"
   ]
  },
  {
   "cell_type": "code",
   "execution_count": 27,
   "metadata": {},
   "outputs": [
    {
     "ename": "NameError",
     "evalue": "name 'label_map' is not defined",
     "output_type": "error",
     "traceback": [
      "\u001b[0;31m---------------------------------------------------------------------------\u001b[0m",
      "\u001b[0;31mNameError\u001b[0m                                 Traceback (most recent call last)",
      "Cell \u001b[0;32mIn[27], line 1\u001b[0m\n\u001b[0;32m----> 1\u001b[0m \u001b[43mlabel_map\u001b[49m\n",
      "\u001b[0;31mNameError\u001b[0m: name 'label_map' is not defined"
     ]
    }
   ],
   "source": [
    "label_map"
   ]
  },
  {
   "cell_type": "code",
   "execution_count": 24,
   "metadata": {},
   "outputs": [],
   "source": [
    "sequences, labels = [], []\n",
    "for action in actions:\n",
    "    for sequence in range(no_sequences):\n",
    "        window = []\n",
    "        for frame_num in range(sequence_length):\n",
    "            res = np.load(os.path.join(DATA_PATH, action, str(sequence), \"{}.npy\".format(frame_num)))\n",
    "            window.append(res)\n",
    "        sequences.append(window)\n",
    "        labels.append(label_map[action])"
   ]
  },
  {
   "cell_type": "code",
   "execution_count": 25,
   "metadata": {},
   "outputs": [
    {
     "data": {
      "text/plain": [
       "(150, 20, 1662)"
      ]
     },
     "execution_count": 25,
     "metadata": {},
     "output_type": "execute_result"
    }
   ],
   "source": [
    "np.array(sequences).shape"
   ]
  },
  {
   "cell_type": "code",
   "execution_count": 26,
   "metadata": {},
   "outputs": [
    {
     "data": {
      "text/plain": [
       "(150,)"
      ]
     },
     "execution_count": 26,
     "metadata": {},
     "output_type": "execute_result"
    }
   ],
   "source": [
    "np.array(labels).shape"
   ]
  },
  {
   "cell_type": "code",
   "execution_count": 27,
   "metadata": {},
   "outputs": [],
   "source": [
    "X = np.array(sequences)"
   ]
  },
  {
   "cell_type": "code",
   "execution_count": 28,
   "metadata": {},
   "outputs": [
    {
     "data": {
      "text/plain": [
       "(150, 20, 1662)"
      ]
     },
     "execution_count": 28,
     "metadata": {},
     "output_type": "execute_result"
    }
   ],
   "source": [
    "X.shape"
   ]
  },
  {
   "cell_type": "code",
   "execution_count": 29,
   "metadata": {},
   "outputs": [],
   "source": [
    "y = to_categorical(labels).astype(int)"
   ]
  },
  {
   "cell_type": "code",
   "execution_count": 30,
   "metadata": {},
   "outputs": [
    {
     "data": {
      "text/plain": [
       "array([[1, 0, 0, 0, 0],\n",
       "       [1, 0, 0, 0, 0],\n",
       "       [1, 0, 0, 0, 0],\n",
       "       [1, 0, 0, 0, 0],\n",
       "       [1, 0, 0, 0, 0],\n",
       "       [1, 0, 0, 0, 0],\n",
       "       [1, 0, 0, 0, 0],\n",
       "       [1, 0, 0, 0, 0],\n",
       "       [1, 0, 0, 0, 0],\n",
       "       [1, 0, 0, 0, 0],\n",
       "       [1, 0, 0, 0, 0],\n",
       "       [1, 0, 0, 0, 0],\n",
       "       [1, 0, 0, 0, 0],\n",
       "       [1, 0, 0, 0, 0],\n",
       "       [1, 0, 0, 0, 0],\n",
       "       [1, 0, 0, 0, 0],\n",
       "       [1, 0, 0, 0, 0],\n",
       "       [1, 0, 0, 0, 0],\n",
       "       [1, 0, 0, 0, 0],\n",
       "       [1, 0, 0, 0, 0],\n",
       "       [1, 0, 0, 0, 0],\n",
       "       [1, 0, 0, 0, 0],\n",
       "       [1, 0, 0, 0, 0],\n",
       "       [1, 0, 0, 0, 0],\n",
       "       [1, 0, 0, 0, 0],\n",
       "       [1, 0, 0, 0, 0],\n",
       "       [1, 0, 0, 0, 0],\n",
       "       [1, 0, 0, 0, 0],\n",
       "       [1, 0, 0, 0, 0],\n",
       "       [1, 0, 0, 0, 0],\n",
       "       [0, 1, 0, 0, 0],\n",
       "       [0, 1, 0, 0, 0],\n",
       "       [0, 1, 0, 0, 0],\n",
       "       [0, 1, 0, 0, 0],\n",
       "       [0, 1, 0, 0, 0],\n",
       "       [0, 1, 0, 0, 0],\n",
       "       [0, 1, 0, 0, 0],\n",
       "       [0, 1, 0, 0, 0],\n",
       "       [0, 1, 0, 0, 0],\n",
       "       [0, 1, 0, 0, 0],\n",
       "       [0, 1, 0, 0, 0],\n",
       "       [0, 1, 0, 0, 0],\n",
       "       [0, 1, 0, 0, 0],\n",
       "       [0, 1, 0, 0, 0],\n",
       "       [0, 1, 0, 0, 0],\n",
       "       [0, 1, 0, 0, 0],\n",
       "       [0, 1, 0, 0, 0],\n",
       "       [0, 1, 0, 0, 0],\n",
       "       [0, 1, 0, 0, 0],\n",
       "       [0, 1, 0, 0, 0],\n",
       "       [0, 1, 0, 0, 0],\n",
       "       [0, 1, 0, 0, 0],\n",
       "       [0, 1, 0, 0, 0],\n",
       "       [0, 1, 0, 0, 0],\n",
       "       [0, 1, 0, 0, 0],\n",
       "       [0, 1, 0, 0, 0],\n",
       "       [0, 1, 0, 0, 0],\n",
       "       [0, 1, 0, 0, 0],\n",
       "       [0, 1, 0, 0, 0],\n",
       "       [0, 1, 0, 0, 0],\n",
       "       [0, 0, 1, 0, 0],\n",
       "       [0, 0, 1, 0, 0],\n",
       "       [0, 0, 1, 0, 0],\n",
       "       [0, 0, 1, 0, 0],\n",
       "       [0, 0, 1, 0, 0],\n",
       "       [0, 0, 1, 0, 0],\n",
       "       [0, 0, 1, 0, 0],\n",
       "       [0, 0, 1, 0, 0],\n",
       "       [0, 0, 1, 0, 0],\n",
       "       [0, 0, 1, 0, 0],\n",
       "       [0, 0, 1, 0, 0],\n",
       "       [0, 0, 1, 0, 0],\n",
       "       [0, 0, 1, 0, 0],\n",
       "       [0, 0, 1, 0, 0],\n",
       "       [0, 0, 1, 0, 0],\n",
       "       [0, 0, 1, 0, 0],\n",
       "       [0, 0, 1, 0, 0],\n",
       "       [0, 0, 1, 0, 0],\n",
       "       [0, 0, 1, 0, 0],\n",
       "       [0, 0, 1, 0, 0],\n",
       "       [0, 0, 1, 0, 0],\n",
       "       [0, 0, 1, 0, 0],\n",
       "       [0, 0, 1, 0, 0],\n",
       "       [0, 0, 1, 0, 0],\n",
       "       [0, 0, 1, 0, 0],\n",
       "       [0, 0, 1, 0, 0],\n",
       "       [0, 0, 1, 0, 0],\n",
       "       [0, 0, 1, 0, 0],\n",
       "       [0, 0, 1, 0, 0],\n",
       "       [0, 0, 1, 0, 0],\n",
       "       [0, 0, 0, 1, 0],\n",
       "       [0, 0, 0, 1, 0],\n",
       "       [0, 0, 0, 1, 0],\n",
       "       [0, 0, 0, 1, 0],\n",
       "       [0, 0, 0, 1, 0],\n",
       "       [0, 0, 0, 1, 0],\n",
       "       [0, 0, 0, 1, 0],\n",
       "       [0, 0, 0, 1, 0],\n",
       "       [0, 0, 0, 1, 0],\n",
       "       [0, 0, 0, 1, 0],\n",
       "       [0, 0, 0, 1, 0],\n",
       "       [0, 0, 0, 1, 0],\n",
       "       [0, 0, 0, 1, 0],\n",
       "       [0, 0, 0, 1, 0],\n",
       "       [0, 0, 0, 1, 0],\n",
       "       [0, 0, 0, 1, 0],\n",
       "       [0, 0, 0, 1, 0],\n",
       "       [0, 0, 0, 1, 0],\n",
       "       [0, 0, 0, 1, 0],\n",
       "       [0, 0, 0, 1, 0],\n",
       "       [0, 0, 0, 1, 0],\n",
       "       [0, 0, 0, 1, 0],\n",
       "       [0, 0, 0, 1, 0],\n",
       "       [0, 0, 0, 1, 0],\n",
       "       [0, 0, 0, 1, 0],\n",
       "       [0, 0, 0, 1, 0],\n",
       "       [0, 0, 0, 1, 0],\n",
       "       [0, 0, 0, 1, 0],\n",
       "       [0, 0, 0, 1, 0],\n",
       "       [0, 0, 0, 1, 0],\n",
       "       [0, 0, 0, 0, 1],\n",
       "       [0, 0, 0, 0, 1],\n",
       "       [0, 0, 0, 0, 1],\n",
       "       [0, 0, 0, 0, 1],\n",
       "       [0, 0, 0, 0, 1],\n",
       "       [0, 0, 0, 0, 1],\n",
       "       [0, 0, 0, 0, 1],\n",
       "       [0, 0, 0, 0, 1],\n",
       "       [0, 0, 0, 0, 1],\n",
       "       [0, 0, 0, 0, 1],\n",
       "       [0, 0, 0, 0, 1],\n",
       "       [0, 0, 0, 0, 1],\n",
       "       [0, 0, 0, 0, 1],\n",
       "       [0, 0, 0, 0, 1],\n",
       "       [0, 0, 0, 0, 1],\n",
       "       [0, 0, 0, 0, 1],\n",
       "       [0, 0, 0, 0, 1],\n",
       "       [0, 0, 0, 0, 1],\n",
       "       [0, 0, 0, 0, 1],\n",
       "       [0, 0, 0, 0, 1],\n",
       "       [0, 0, 0, 0, 1],\n",
       "       [0, 0, 0, 0, 1],\n",
       "       [0, 0, 0, 0, 1],\n",
       "       [0, 0, 0, 0, 1],\n",
       "       [0, 0, 0, 0, 1],\n",
       "       [0, 0, 0, 0, 1],\n",
       "       [0, 0, 0, 0, 1],\n",
       "       [0, 0, 0, 0, 1],\n",
       "       [0, 0, 0, 0, 1],\n",
       "       [0, 0, 0, 0, 1]])"
      ]
     },
     "execution_count": 30,
     "metadata": {},
     "output_type": "execute_result"
    }
   ],
   "source": [
    "y"
   ]
  },
  {
   "cell_type": "code",
   "execution_count": 32,
   "metadata": {},
   "outputs": [],
   "source": [
    "X_train, X_test, y_train, y_test = train_test_split(X, y, test_size=0.6)"
   ]
  },
  {
   "cell_type": "code",
   "execution_count": 33,
   "metadata": {},
   "outputs": [
    {
     "data": {
      "text/plain": [
       "(90, 5)"
      ]
     },
     "execution_count": 33,
     "metadata": {},
     "output_type": "execute_result"
    }
   ],
   "source": [
    "y_test.shape"
   ]
  },
  {
   "cell_type": "markdown",
   "metadata": {},
   "source": [
    "# 7. Build and Train LSTM Neural Network"
   ]
  },
  {
   "cell_type": "code",
   "execution_count": 28,
   "metadata": {},
   "outputs": [],
   "source": [
    "from tensorflow.keras.models import Sequential\n",
    "from tensorflow.keras.layers import LSTM, Dense\n",
    "from tensorflow.keras.callbacks import TensorBoard"
   ]
  },
  {
   "cell_type": "code",
   "execution_count": 18,
   "metadata": {},
   "outputs": [],
   "source": [
    "log_dir = os.path.join('Logs')\n",
    "tb_callback = TensorBoard(log_dir=log_dir)"
   ]
  },
  {
   "cell_type": "code",
   "execution_count": 36,
   "metadata": {},
   "outputs": [
    {
     "name": "stderr",
     "output_type": "stream",
     "text": [
      "2023-11-05 01:45:00.104282: I tensorflow/core/common_runtime/process_util.cc:146] Creating new thread pool with default inter op setting: 2. Tune using inter_op_parallelism_threads for best performance.\n"
     ]
    }
   ],
   "source": [
    "model = Sequential()\n",
    "model.add(LSTM(64, return_sequences=True, activation='relu', input_shape=(20,1662)))\n",
    "model.add(LSTM(128, return_sequences=True, activation='relu'))\n",
    "model.add(LSTM(64, return_sequences=False, activation='relu'))\n",
    "model.add(Dense(64, activation='relu'))\n",
    "model.add(Dense(32, activation='relu'))\n",
    "model.add(Dense(actions.shape[0], activation='softmax'))"
   ]
  },
  {
   "cell_type": "code",
   "execution_count": 37,
   "metadata": {},
   "outputs": [],
   "source": [
    "res = [.7, 0.2, 0.1]"
   ]
  },
  {
   "cell_type": "code",
   "execution_count": 38,
   "metadata": {},
   "outputs": [
    {
     "data": {
      "text/plain": [
       "'Hello'"
      ]
     },
     "execution_count": 38,
     "metadata": {},
     "output_type": "execute_result"
    }
   ],
   "source": [
    "actions[np.argmax(res)]"
   ]
  },
  {
   "cell_type": "code",
   "execution_count": 39,
   "metadata": {},
   "outputs": [],
   "source": [
    "model.compile(optimizer='Adam', loss='categorical_crossentropy', metrics=['categorical_accuracy'])"
   ]
  },
  {
   "cell_type": "code",
   "execution_count": 40,
   "metadata": {
    "scrolled": true
   },
   "outputs": [
    {
     "name": "stdout",
     "output_type": "stream",
     "text": [
      "Epoch 1/600\n",
      "2/2 [==============================] - 5s 226ms/step - loss: 1.6155 - categorical_accuracy: 0.1500\n",
      "Epoch 2/600\n",
      "2/2 [==============================] - 0s 266ms/step - loss: 1.6018 - categorical_accuracy: 0.2333\n",
      "Epoch 3/600\n",
      "2/2 [==============================] - 0s 279ms/step - loss: 1.8992 - categorical_accuracy: 0.2000\n",
      "Epoch 4/600\n",
      "2/2 [==============================] - 1s 390ms/step - loss: 2.0502 - categorical_accuracy: 0.2167\n",
      "Epoch 5/600\n",
      "2/2 [==============================] - 0s 152ms/step - loss: 1.6660 - categorical_accuracy: 0.2167\n",
      "Epoch 6/600\n",
      "2/2 [==============================] - 1s 383ms/step - loss: 1.6807 - categorical_accuracy: 0.2167\n",
      "Epoch 7/600\n",
      "2/2 [==============================] - 0s 173ms/step - loss: 1.6553 - categorical_accuracy: 0.2500\n",
      "Epoch 8/600\n",
      "2/2 [==============================] - 0s 220ms/step - loss: 1.6089 - categorical_accuracy: 0.1833\n",
      "Epoch 9/600\n",
      "2/2 [==============================] - 0s 209ms/step - loss: 1.5831 - categorical_accuracy: 0.2833\n",
      "Epoch 10/600\n",
      "2/2 [==============================] - 0s 172ms/step - loss: 1.5761 - categorical_accuracy: 0.3500\n",
      "Epoch 11/600\n",
      "2/2 [==============================] - 1s 175ms/step - loss: 1.5472 - categorical_accuracy: 0.2833\n",
      "Epoch 12/600\n",
      "2/2 [==============================] - 0s 259ms/step - loss: 1.4707 - categorical_accuracy: 0.3833\n",
      "Epoch 13/600\n",
      "2/2 [==============================] - 0s 281ms/step - loss: 1.9288 - categorical_accuracy: 0.3500\n",
      "Epoch 14/600\n",
      "2/2 [==============================] - 1s 290ms/step - loss: 1.5811 - categorical_accuracy: 0.2667\n",
      "Epoch 15/600\n",
      "2/2 [==============================] - 0s 203ms/step - loss: 1.6095 - categorical_accuracy: 0.2833\n",
      "Epoch 16/600\n",
      "2/2 [==============================] - 1s 270ms/step - loss: 1.4984 - categorical_accuracy: 0.2667\n",
      "Epoch 17/600\n",
      "2/2 [==============================] - 0s 135ms/step - loss: 1.5322 - categorical_accuracy: 0.3333\n",
      "Epoch 18/600\n",
      "2/2 [==============================] - 0s 186ms/step - loss: 1.4701 - categorical_accuracy: 0.3000\n",
      "Epoch 19/600\n",
      "2/2 [==============================] - 0s 185ms/step - loss: 1.4127 - categorical_accuracy: 0.2500\n",
      "Epoch 20/600\n",
      "2/2 [==============================] - 0s 134ms/step - loss: 1.3806 - categorical_accuracy: 0.4000\n",
      "Epoch 21/600\n",
      "2/2 [==============================] - 0s 131ms/step - loss: 1.3636 - categorical_accuracy: 0.3333\n",
      "Epoch 22/600\n",
      "2/2 [==============================] - 0s 151ms/step - loss: 1.3094 - categorical_accuracy: 0.4333\n",
      "Epoch 23/600\n",
      "2/2 [==============================] - 0s 168ms/step - loss: 1.3017 - categorical_accuracy: 0.3667\n",
      "Epoch 24/600\n",
      "2/2 [==============================] - 0s 190ms/step - loss: 1.3586 - categorical_accuracy: 0.4000\n",
      "Epoch 25/600\n",
      "2/2 [==============================] - 0s 134ms/step - loss: 1.3850 - categorical_accuracy: 0.4167\n",
      "Epoch 26/600\n",
      "2/2 [==============================] - 0s 164ms/step - loss: 1.3184 - categorical_accuracy: 0.3333\n",
      "Epoch 27/600\n",
      "2/2 [==============================] - 0s 146ms/step - loss: 1.4244 - categorical_accuracy: 0.3333\n",
      "Epoch 28/600\n",
      "2/2 [==============================] - 0s 231ms/step - loss: 1.2502 - categorical_accuracy: 0.4333\n",
      "Epoch 29/600\n",
      "2/2 [==============================] - 0s 173ms/step - loss: 1.2387 - categorical_accuracy: 0.4667\n",
      "Epoch 30/600\n",
      "2/2 [==============================] - 0s 159ms/step - loss: 1.2399 - categorical_accuracy: 0.5500\n",
      "Epoch 31/600\n",
      "2/2 [==============================] - 0s 144ms/step - loss: 1.1848 - categorical_accuracy: 0.5167\n",
      "Epoch 32/600\n",
      "2/2 [==============================] - 0s 189ms/step - loss: 1.1616 - categorical_accuracy: 0.4333\n",
      "Epoch 33/600\n",
      "2/2 [==============================] - 0s 206ms/step - loss: 1.1200 - categorical_accuracy: 0.5167\n",
      "Epoch 34/600\n",
      "2/2 [==============================] - 0s 147ms/step - loss: 1.0733 - categorical_accuracy: 0.4833\n",
      "Epoch 35/600\n",
      "2/2 [==============================] - 0s 278ms/step - loss: 1.0350 - categorical_accuracy: 0.5167\n",
      "Epoch 36/600\n",
      "2/2 [==============================] - 0s 274ms/step - loss: 1.0467 - categorical_accuracy: 0.5167\n",
      "Epoch 37/600\n",
      "2/2 [==============================] - 0s 263ms/step - loss: 0.9570 - categorical_accuracy: 0.5667\n",
      "Epoch 38/600\n",
      "2/2 [==============================] - 0s 185ms/step - loss: 1.0462 - categorical_accuracy: 0.5000\n",
      "Epoch 39/600\n",
      "2/2 [==============================] - 0s 208ms/step - loss: 0.9926 - categorical_accuracy: 0.5833\n",
      "Epoch 40/600\n",
      "2/2 [==============================] - 0s 195ms/step - loss: 1.1329 - categorical_accuracy: 0.3833\n",
      "Epoch 41/600\n",
      "2/2 [==============================] - 0s 174ms/step - loss: 1.6562 - categorical_accuracy: 0.3000\n",
      "Epoch 42/600\n",
      "2/2 [==============================] - 0s 217ms/step - loss: 1.6423 - categorical_accuracy: 0.5667\n",
      "Epoch 43/600\n",
      "2/2 [==============================] - 0s 249ms/step - loss: 1.2531 - categorical_accuracy: 0.4333\n",
      "Epoch 44/600\n",
      "2/2 [==============================] - 1s 167ms/step - loss: 1.2723 - categorical_accuracy: 0.4500\n",
      "Epoch 45/600\n",
      "2/2 [==============================] - 1s 259ms/step - loss: 1.2068 - categorical_accuracy: 0.4833\n",
      "Epoch 46/600\n",
      "2/2 [==============================] - 0s 172ms/step - loss: 1.1189 - categorical_accuracy: 0.4667\n",
      "Epoch 47/600\n",
      "2/2 [==============================] - 0s 207ms/step - loss: 1.1459 - categorical_accuracy: 0.4333\n",
      "Epoch 48/600\n",
      "2/2 [==============================] - 0s 182ms/step - loss: 1.1013 - categorical_accuracy: 0.6000\n",
      "Epoch 49/600\n",
      "2/2 [==============================] - 0s 175ms/step - loss: 1.1180 - categorical_accuracy: 0.6333\n",
      "Epoch 50/600\n",
      "2/2 [==============================] - 0s 273ms/step - loss: 1.0616 - categorical_accuracy: 0.5667\n",
      "Epoch 51/600\n",
      "2/2 [==============================] - 1s 402ms/step - loss: 1.0835 - categorical_accuracy: 0.5500\n",
      "Epoch 52/600\n",
      "2/2 [==============================] - 0s 178ms/step - loss: 1.0519 - categorical_accuracy: 0.6833\n",
      "Epoch 53/600\n",
      "2/2 [==============================] - 0s 181ms/step - loss: 1.0075 - categorical_accuracy: 0.6167\n",
      "Epoch 54/600\n",
      "2/2 [==============================] - 0s 174ms/step - loss: 0.9594 - categorical_accuracy: 0.6000\n",
      "Epoch 55/600\n",
      "2/2 [==============================] - 0s 160ms/step - loss: 0.9180 - categorical_accuracy: 0.7000\n",
      "Epoch 56/600\n",
      "2/2 [==============================] - 0s 190ms/step - loss: 0.8861 - categorical_accuracy: 0.6833\n",
      "Epoch 57/600\n",
      "2/2 [==============================] - 0s 286ms/step - loss: 0.8489 - categorical_accuracy: 0.5833\n",
      "Epoch 58/600\n",
      "2/2 [==============================] - 1s 288ms/step - loss: 0.8077 - categorical_accuracy: 0.6000\n",
      "Epoch 59/600\n",
      "2/2 [==============================] - 0s 138ms/step - loss: 0.8882 - categorical_accuracy: 0.5667\n",
      "Epoch 60/600\n",
      "2/2 [==============================] - 0s 179ms/step - loss: 0.9698 - categorical_accuracy: 0.5667\n",
      "Epoch 61/600\n",
      "2/2 [==============================] - 0s 160ms/step - loss: 0.9642 - categorical_accuracy: 0.5667\n",
      "Epoch 62/600\n",
      "2/2 [==============================] - 0s 193ms/step - loss: 0.9773 - categorical_accuracy: 0.5667\n",
      "Epoch 63/600\n",
      "2/2 [==============================] - 0s 210ms/step - loss: 0.9295 - categorical_accuracy: 0.5833\n",
      "Epoch 64/600\n",
      "2/2 [==============================] - 0s 181ms/step - loss: 0.9997 - categorical_accuracy: 0.5000\n",
      "Epoch 65/600\n",
      "2/2 [==============================] - 0s 181ms/step - loss: 0.8872 - categorical_accuracy: 0.4833\n",
      "Epoch 66/600\n",
      "2/2 [==============================] - 0s 223ms/step - loss: 1.0978 - categorical_accuracy: 0.4500\n",
      "Epoch 67/600\n",
      "2/2 [==============================] - 0s 212ms/step - loss: 1.1340 - categorical_accuracy: 0.4833\n",
      "Epoch 68/600\n",
      "2/2 [==============================] - 0s 158ms/step - loss: 1.0371 - categorical_accuracy: 0.6000\n",
      "Epoch 69/600\n",
      "2/2 [==============================] - 1s 274ms/step - loss: 1.0912 - categorical_accuracy: 0.5000\n",
      "Epoch 70/600\n",
      "2/2 [==============================] - 0s 163ms/step - loss: 0.9096 - categorical_accuracy: 0.6000\n",
      "Epoch 71/600\n",
      "2/2 [==============================] - 0s 195ms/step - loss: 0.9936 - categorical_accuracy: 0.5500\n",
      "Epoch 72/600\n",
      "2/2 [==============================] - 1s 175ms/step - loss: 0.8698 - categorical_accuracy: 0.6500\n",
      "Epoch 73/600\n",
      "2/2 [==============================] - 0s 181ms/step - loss: 0.8320 - categorical_accuracy: 0.6500\n",
      "Epoch 74/600\n",
      "2/2 [==============================] - 1s 231ms/step - loss: 0.8282 - categorical_accuracy: 0.6333\n",
      "Epoch 75/600\n",
      "2/2 [==============================] - 0s 183ms/step - loss: 0.7545 - categorical_accuracy: 0.7167\n",
      "Epoch 76/600\n",
      "2/2 [==============================] - 0s 196ms/step - loss: 0.7243 - categorical_accuracy: 0.7333\n",
      "Epoch 77/600\n",
      "2/2 [==============================] - 0s 189ms/step - loss: 0.7555 - categorical_accuracy: 0.6667\n",
      "Epoch 78/600\n",
      "2/2 [==============================] - 0s 321ms/step - loss: 0.8138 - categorical_accuracy: 0.6833\n",
      "Epoch 79/600\n",
      "2/2 [==============================] - 0s 184ms/step - loss: 0.7411 - categorical_accuracy: 0.7000\n",
      "Epoch 80/600\n",
      "2/2 [==============================] - 0s 163ms/step - loss: 0.7125 - categorical_accuracy: 0.6833\n",
      "Epoch 81/600\n",
      "2/2 [==============================] - 0s 180ms/step - loss: 0.6664 - categorical_accuracy: 0.7167\n",
      "Epoch 82/600\n",
      "2/2 [==============================] - 0s 187ms/step - loss: 0.8392 - categorical_accuracy: 0.5833\n",
      "Epoch 83/600\n",
      "2/2 [==============================] - 0s 154ms/step - loss: 0.6219 - categorical_accuracy: 0.7333\n",
      "Epoch 84/600\n",
      "2/2 [==============================] - 0s 158ms/step - loss: 0.6571 - categorical_accuracy: 0.7000\n",
      "Epoch 85/600\n",
      "2/2 [==============================] - 0s 152ms/step - loss: 0.7090 - categorical_accuracy: 0.6667\n",
      "Epoch 86/600\n",
      "2/2 [==============================] - 0s 159ms/step - loss: 0.8371 - categorical_accuracy: 0.6833\n",
      "Epoch 87/600\n",
      "2/2 [==============================] - 0s 179ms/step - loss: 0.8390 - categorical_accuracy: 0.6500\n",
      "Epoch 88/600\n",
      "2/2 [==============================] - 1s 214ms/step - loss: 0.7266 - categorical_accuracy: 0.6333\n",
      "Epoch 89/600\n",
      "2/2 [==============================] - 1s 222ms/step - loss: 0.8629 - categorical_accuracy: 0.5667\n",
      "Epoch 90/600\n",
      "2/2 [==============================] - 0s 295ms/step - loss: 0.8672 - categorical_accuracy: 0.6000\n",
      "Epoch 91/600\n",
      "2/2 [==============================] - 1s 306ms/step - loss: 0.8474 - categorical_accuracy: 0.6333\n",
      "Epoch 92/600\n",
      "2/2 [==============================] - 0s 195ms/step - loss: 0.9081 - categorical_accuracy: 0.5500\n",
      "Epoch 93/600\n",
      "2/2 [==============================] - 1s 206ms/step - loss: 0.8086 - categorical_accuracy: 0.6333\n",
      "Epoch 94/600\n",
      "2/2 [==============================] - 0s 188ms/step - loss: 0.8148 - categorical_accuracy: 0.6167\n",
      "Epoch 95/600\n",
      "2/2 [==============================] - 0s 146ms/step - loss: 0.7812 - categorical_accuracy: 0.6667\n",
      "Epoch 96/600\n",
      "2/2 [==============================] - 0s 168ms/step - loss: 0.7725 - categorical_accuracy: 0.6167\n",
      "Epoch 97/600\n",
      "2/2 [==============================] - 0s 170ms/step - loss: 0.6917 - categorical_accuracy: 0.7500\n",
      "Epoch 98/600\n",
      "2/2 [==============================] - 1s 304ms/step - loss: 0.6671 - categorical_accuracy: 0.7333\n",
      "Epoch 99/600\n",
      "2/2 [==============================] - 0s 214ms/step - loss: 0.6570 - categorical_accuracy: 0.7333\n",
      "Epoch 100/600\n",
      "2/2 [==============================] - 0s 173ms/step - loss: 0.6271 - categorical_accuracy: 0.6667\n",
      "Epoch 101/600\n",
      "2/2 [==============================] - 0s 191ms/step - loss: 0.6179 - categorical_accuracy: 0.6833\n",
      "Epoch 102/600\n",
      "2/2 [==============================] - 0s 151ms/step - loss: 0.5836 - categorical_accuracy: 0.7333\n",
      "Epoch 103/600\n",
      "2/2 [==============================] - 0s 185ms/step - loss: 0.5867 - categorical_accuracy: 0.7333\n",
      "Epoch 104/600\n",
      "2/2 [==============================] - 0s 181ms/step - loss: 0.5980 - categorical_accuracy: 0.7167\n",
      "Epoch 105/600\n",
      "2/2 [==============================] - 0s 190ms/step - loss: 0.5496 - categorical_accuracy: 0.7667\n",
      "Epoch 106/600\n",
      "2/2 [==============================] - 0s 184ms/step - loss: 0.5195 - categorical_accuracy: 0.7833\n",
      "Epoch 107/600\n",
      "2/2 [==============================] - 0s 280ms/step - loss: 0.5022 - categorical_accuracy: 0.7500\n",
      "Epoch 108/600\n",
      "2/2 [==============================] - 0s 127ms/step - loss: 0.7260 - categorical_accuracy: 0.6833\n",
      "Epoch 109/600\n",
      "2/2 [==============================] - 0s 158ms/step - loss: 1.1874 - categorical_accuracy: 0.5667\n",
      "Epoch 110/600\n",
      "2/2 [==============================] - 0s 188ms/step - loss: 1.5603 - categorical_accuracy: 0.5333\n",
      "Epoch 111/600\n",
      "2/2 [==============================] - 0s 172ms/step - loss: 1.4052 - categorical_accuracy: 0.4667\n",
      "Epoch 112/600\n",
      "2/2 [==============================] - 1s 441ms/step - loss: 0.9671 - categorical_accuracy: 0.5333\n",
      "Epoch 113/600\n",
      "2/2 [==============================] - 0s 190ms/step - loss: 0.9839 - categorical_accuracy: 0.5500\n",
      "Epoch 114/600\n",
      "2/2 [==============================] - 0s 152ms/step - loss: 1.0183 - categorical_accuracy: 0.5167\n",
      "Epoch 115/600\n",
      "2/2 [==============================] - 0s 196ms/step - loss: 1.0528 - categorical_accuracy: 0.4833\n",
      "Epoch 116/600\n",
      "2/2 [==============================] - 0s 178ms/step - loss: 0.9569 - categorical_accuracy: 0.5667\n",
      "Epoch 117/600\n",
      "2/2 [==============================] - 0s 125ms/step - loss: 0.9551 - categorical_accuracy: 0.5667\n",
      "Epoch 118/600\n",
      "2/2 [==============================] - 0s 150ms/step - loss: 1.2279 - categorical_accuracy: 0.5000\n",
      "Epoch 119/600\n",
      "2/2 [==============================] - 0s 143ms/step - loss: 0.9189 - categorical_accuracy: 0.5000\n",
      "Epoch 120/600\n",
      "2/2 [==============================] - 0s 206ms/step - loss: 1.2303 - categorical_accuracy: 0.5000\n",
      "Epoch 121/600\n",
      "2/2 [==============================] - 0s 258ms/step - loss: 0.9094 - categorical_accuracy: 0.5667\n",
      "Epoch 122/600\n",
      "2/2 [==============================] - 0s 121ms/step - loss: 0.8720 - categorical_accuracy: 0.6500\n",
      "Epoch 123/600\n",
      "2/2 [==============================] - 0s 214ms/step - loss: 0.8752 - categorical_accuracy: 0.6667\n",
      "Epoch 124/600\n",
      "2/2 [==============================] - 0s 184ms/step - loss: 0.8212 - categorical_accuracy: 0.6667\n",
      "Epoch 125/600\n",
      "2/2 [==============================] - 0s 155ms/step - loss: 0.8348 - categorical_accuracy: 0.6667\n",
      "Epoch 126/600\n",
      "2/2 [==============================] - 0s 251ms/step - loss: 0.7631 - categorical_accuracy: 0.6167\n",
      "Epoch 127/600\n",
      "2/2 [==============================] - 0s 170ms/step - loss: 0.7281 - categorical_accuracy: 0.6833\n",
      "Epoch 128/600\n",
      "2/2 [==============================] - 0s 165ms/step - loss: 0.6846 - categorical_accuracy: 0.6833\n",
      "Epoch 129/600\n",
      "2/2 [==============================] - 0s 191ms/step - loss: 0.6671 - categorical_accuracy: 0.7000\n",
      "Epoch 130/600\n",
      "2/2 [==============================] - 0s 292ms/step - loss: 0.6644 - categorical_accuracy: 0.7333\n",
      "Epoch 131/600\n",
      "2/2 [==============================] - 0s 196ms/step - loss: 0.6050 - categorical_accuracy: 0.7333\n",
      "Epoch 132/600\n",
      "2/2 [==============================] - 1s 316ms/step - loss: 0.6697 - categorical_accuracy: 0.6667\n",
      "Epoch 133/600\n",
      "2/2 [==============================] - 1s 317ms/step - loss: 0.6318 - categorical_accuracy: 0.7333\n",
      "Epoch 134/600\n",
      "2/2 [==============================] - 0s 200ms/step - loss: 0.6890 - categorical_accuracy: 0.6667\n",
      "Epoch 135/600\n",
      "2/2 [==============================] - 0s 177ms/step - loss: 0.7001 - categorical_accuracy: 0.6833\n",
      "Epoch 136/600\n",
      "2/2 [==============================] - 0s 198ms/step - loss: 0.6430 - categorical_accuracy: 0.6833\n",
      "Epoch 137/600\n",
      "2/2 [==============================] - 0s 288ms/step - loss: 0.6794 - categorical_accuracy: 0.6667\n",
      "Epoch 138/600\n",
      "2/2 [==============================] - 0s 221ms/step - loss: 0.7673 - categorical_accuracy: 0.6333\n",
      "Epoch 139/600\n",
      "2/2 [==============================] - 1s 205ms/step - loss: 0.7474 - categorical_accuracy: 0.6167\n",
      "Epoch 140/600\n",
      "2/2 [==============================] - 0s 145ms/step - loss: 0.6514 - categorical_accuracy: 0.7167\n",
      "Epoch 141/600\n",
      "2/2 [==============================] - 0s 148ms/step - loss: 0.7730 - categorical_accuracy: 0.6333\n",
      "Epoch 142/600\n",
      "2/2 [==============================] - 0s 197ms/step - loss: 0.7300 - categorical_accuracy: 0.7167\n",
      "Epoch 143/600\n",
      "2/2 [==============================] - 0s 145ms/step - loss: 0.6364 - categorical_accuracy: 0.6833\n",
      "Epoch 144/600\n",
      "2/2 [==============================] - 0s 179ms/step - loss: 0.6656 - categorical_accuracy: 0.6833\n",
      "Epoch 145/600\n",
      "2/2 [==============================] - 0s 150ms/step - loss: 0.6448 - categorical_accuracy: 0.6500\n",
      "Epoch 146/600\n",
      "2/2 [==============================] - 0s 184ms/step - loss: 0.6671 - categorical_accuracy: 0.6667\n",
      "Epoch 147/600\n",
      "2/2 [==============================] - 0s 259ms/step - loss: 0.6433 - categorical_accuracy: 0.7667\n",
      "Epoch 148/600\n",
      "2/2 [==============================] - 0s 234ms/step - loss: 0.6267 - categorical_accuracy: 0.7167\n",
      "Epoch 149/600\n",
      "2/2 [==============================] - 0s 219ms/step - loss: 0.6005 - categorical_accuracy: 0.6833\n",
      "Epoch 150/600\n",
      "2/2 [==============================] - 0s 207ms/step - loss: 0.6846 - categorical_accuracy: 0.6333\n",
      "Epoch 151/600\n",
      "2/2 [==============================] - 0s 186ms/step - loss: 0.5870 - categorical_accuracy: 0.7000\n",
      "Epoch 152/600\n",
      "2/2 [==============================] - 1s 242ms/step - loss: 0.6080 - categorical_accuracy: 0.6833\n",
      "Epoch 153/600\n",
      "2/2 [==============================] - 0s 137ms/step - loss: 0.6407 - categorical_accuracy: 0.6833\n",
      "Epoch 154/600\n",
      "2/2 [==============================] - 0s 147ms/step - loss: 0.6117 - categorical_accuracy: 0.7167\n",
      "Epoch 155/600\n",
      "2/2 [==============================] - 0s 168ms/step - loss: 0.5588 - categorical_accuracy: 0.7167\n",
      "Epoch 156/600\n",
      "2/2 [==============================] - 0s 216ms/step - loss: 0.5927 - categorical_accuracy: 0.7000\n",
      "Epoch 157/600\n",
      "2/2 [==============================] - 0s 190ms/step - loss: 0.5583 - categorical_accuracy: 0.7500\n",
      "Epoch 158/600\n",
      "2/2 [==============================] - 0s 155ms/step - loss: 0.5255 - categorical_accuracy: 0.7500\n",
      "Epoch 159/600\n",
      "2/2 [==============================] - 0s 203ms/step - loss: 0.5379 - categorical_accuracy: 0.7000\n",
      "Epoch 160/600\n",
      "2/2 [==============================] - 0s 168ms/step - loss: 0.5709 - categorical_accuracy: 0.7333\n",
      "Epoch 161/600\n",
      "2/2 [==============================] - 0s 199ms/step - loss: 0.5384 - categorical_accuracy: 0.7500\n",
      "Epoch 162/600\n",
      "2/2 [==============================] - 0s 173ms/step - loss: 0.5650 - categorical_accuracy: 0.6667\n",
      "Epoch 163/600\n",
      "2/2 [==============================] - 0s 162ms/step - loss: 0.6871 - categorical_accuracy: 0.7000\n",
      "Epoch 164/600\n",
      "2/2 [==============================] - 0s 221ms/step - loss: 0.8543 - categorical_accuracy: 0.6167\n",
      "Epoch 165/600\n",
      "2/2 [==============================] - 0s 195ms/step - loss: 1.1077 - categorical_accuracy: 0.5500\n",
      "Epoch 166/600\n",
      "2/2 [==============================] - 0s 162ms/step - loss: 2.5263 - categorical_accuracy: 0.4500\n",
      "Epoch 167/600\n",
      "2/2 [==============================] - 0s 164ms/step - loss: 1.0796 - categorical_accuracy: 0.5333\n",
      "Epoch 168/600\n",
      "2/2 [==============================] - 0s 151ms/step - loss: 2.0346 - categorical_accuracy: 0.3500\n",
      "Epoch 169/600\n",
      "2/2 [==============================] - 0s 192ms/step - loss: 1.0952 - categorical_accuracy: 0.5500\n",
      "Epoch 170/600\n",
      "2/2 [==============================] - 0s 141ms/step - loss: 1.1680 - categorical_accuracy: 0.4833\n",
      "Epoch 171/600\n",
      "2/2 [==============================] - 0s 189ms/step - loss: 1.2276 - categorical_accuracy: 0.3833\n",
      "Epoch 172/600\n",
      "2/2 [==============================] - 0s 133ms/step - loss: 0.9781 - categorical_accuracy: 0.5500\n",
      "Epoch 173/600\n",
      "2/2 [==============================] - 0s 150ms/step - loss: 1.0449 - categorical_accuracy: 0.6000\n",
      "Epoch 174/600\n",
      "2/2 [==============================] - 0s 183ms/step - loss: 1.1238 - categorical_accuracy: 0.4833\n",
      "Epoch 175/600\n",
      "2/2 [==============================] - 0s 176ms/step - loss: 0.9751 - categorical_accuracy: 0.5667\n",
      "Epoch 176/600\n",
      "2/2 [==============================] - 0s 170ms/step - loss: 0.9431 - categorical_accuracy: 0.6167\n",
      "Epoch 177/600\n",
      "2/2 [==============================] - 0s 128ms/step - loss: 1.0000 - categorical_accuracy: 0.5500\n",
      "Epoch 178/600\n",
      "2/2 [==============================] - 0s 189ms/step - loss: 0.8996 - categorical_accuracy: 0.6500\n",
      "Epoch 179/600\n",
      "2/2 [==============================] - 0s 206ms/step - loss: 0.8878 - categorical_accuracy: 0.6833\n",
      "Epoch 180/600\n",
      "2/2 [==============================] - 0s 171ms/step - loss: 0.9019 - categorical_accuracy: 0.6667\n",
      "Epoch 181/600\n",
      "2/2 [==============================] - 0s 170ms/step - loss: 0.8329 - categorical_accuracy: 0.7500\n",
      "Epoch 182/600\n",
      "2/2 [==============================] - 0s 173ms/step - loss: 0.8180 - categorical_accuracy: 0.6833\n",
      "Epoch 183/600\n",
      "2/2 [==============================] - 0s 170ms/step - loss: 0.8209 - categorical_accuracy: 0.6333\n",
      "Epoch 184/600\n",
      "2/2 [==============================] - 0s 123ms/step - loss: 0.7660 - categorical_accuracy: 0.6833\n",
      "Epoch 185/600\n",
      "2/2 [==============================] - 0s 190ms/step - loss: 0.7562 - categorical_accuracy: 0.7167\n",
      "Epoch 186/600\n",
      "2/2 [==============================] - 0s 165ms/step - loss: 0.7454 - categorical_accuracy: 0.7167\n",
      "Epoch 187/600\n",
      "2/2 [==============================] - 0s 206ms/step - loss: 0.7054 - categorical_accuracy: 0.7333\n",
      "Epoch 188/600\n",
      "2/2 [==============================] - 0s 162ms/step - loss: 0.6936 - categorical_accuracy: 0.6833\n",
      "Epoch 189/600\n",
      "2/2 [==============================] - 1s 262ms/step - loss: 0.6711 - categorical_accuracy: 0.7167\n",
      "Epoch 190/600\n",
      "2/2 [==============================] - 1s 213ms/step - loss: 0.6628 - categorical_accuracy: 0.7333\n",
      "Epoch 191/600\n",
      "2/2 [==============================] - 0s 190ms/step - loss: 0.6389 - categorical_accuracy: 0.7500\n",
      "Epoch 192/600\n",
      "2/2 [==============================] - 1s 270ms/step - loss: 0.6468 - categorical_accuracy: 0.7333\n",
      "Epoch 193/600\n",
      "2/2 [==============================] - 0s 205ms/step - loss: 0.6136 - categorical_accuracy: 0.7667\n",
      "Epoch 194/600\n",
      "2/2 [==============================] - 0s 154ms/step - loss: 0.6083 - categorical_accuracy: 0.7667\n",
      "Epoch 195/600\n",
      "2/2 [==============================] - 1s 262ms/step - loss: 0.5975 - categorical_accuracy: 0.7500\n",
      "Epoch 196/600\n",
      "2/2 [==============================] - 1s 328ms/step - loss: 0.5802 - categorical_accuracy: 0.7667\n",
      "Epoch 197/600\n",
      "2/2 [==============================] - 0s 151ms/step - loss: 0.5926 - categorical_accuracy: 0.7500\n",
      "Epoch 198/600\n",
      "2/2 [==============================] - 0s 155ms/step - loss: 0.5713 - categorical_accuracy: 0.7833\n",
      "Epoch 199/600\n",
      "2/2 [==============================] - 0s 189ms/step - loss: 0.5626 - categorical_accuracy: 0.7667\n",
      "Epoch 200/600\n",
      "2/2 [==============================] - 0s 142ms/step - loss: 0.5500 - categorical_accuracy: 0.7833\n",
      "Epoch 201/600\n",
      "2/2 [==============================] - 0s 161ms/step - loss: 0.5490 - categorical_accuracy: 0.8000\n",
      "Epoch 202/600\n",
      "2/2 [==============================] - 0s 166ms/step - loss: 0.5629 - categorical_accuracy: 0.7167\n",
      "Epoch 203/600\n",
      "2/2 [==============================] - 0s 167ms/step - loss: 0.5636 - categorical_accuracy: 0.7500\n",
      "Epoch 204/600\n",
      "2/2 [==============================] - 0s 197ms/step - loss: 0.5401 - categorical_accuracy: 0.7667\n",
      "Epoch 205/600\n",
      "2/2 [==============================] - 0s 185ms/step - loss: 0.5400 - categorical_accuracy: 0.7833\n",
      "Epoch 206/600\n",
      "2/2 [==============================] - 0s 207ms/step - loss: 0.5173 - categorical_accuracy: 0.7833\n",
      "Epoch 207/600\n",
      "2/2 [==============================] - 0s 161ms/step - loss: 0.5348 - categorical_accuracy: 0.7833\n",
      "Epoch 208/600\n",
      "2/2 [==============================] - 0s 176ms/step - loss: 0.5084 - categorical_accuracy: 0.7833\n",
      "Epoch 209/600\n",
      "2/2 [==============================] - 1s 220ms/step - loss: 0.5145 - categorical_accuracy: 0.7667\n",
      "Epoch 210/600\n",
      "2/2 [==============================] - 0s 161ms/step - loss: 0.4964 - categorical_accuracy: 0.7833\n",
      "Epoch 211/600\n",
      "2/2 [==============================] - 0s 184ms/step - loss: 0.5036 - categorical_accuracy: 0.7833\n",
      "Epoch 212/600\n",
      "2/2 [==============================] - 1s 313ms/step - loss: 0.4902 - categorical_accuracy: 0.7833\n",
      "Epoch 213/600\n",
      "2/2 [==============================] - 0s 267ms/step - loss: 0.5059 - categorical_accuracy: 0.7833\n",
      "Epoch 214/600\n",
      "2/2 [==============================] - 0s 187ms/step - loss: 0.4695 - categorical_accuracy: 0.8167\n",
      "Epoch 215/600\n",
      "2/2 [==============================] - 0s 151ms/step - loss: 0.4777 - categorical_accuracy: 0.7833\n",
      "Epoch 216/600\n",
      "2/2 [==============================] - 1s 322ms/step - loss: 0.5245 - categorical_accuracy: 0.7500\n",
      "Epoch 217/600\n",
      "2/2 [==============================] - 0s 196ms/step - loss: 0.4925 - categorical_accuracy: 0.7667\n",
      "Epoch 218/600\n",
      "2/2 [==============================] - 0s 167ms/step - loss: 0.4588 - categorical_accuracy: 0.7833\n",
      "Epoch 219/600\n",
      "2/2 [==============================] - 0s 251ms/step - loss: 0.4663 - categorical_accuracy: 0.7667\n",
      "Epoch 220/600\n",
      "2/2 [==============================] - 0s 227ms/step - loss: 0.4755 - categorical_accuracy: 0.8000\n",
      "Epoch 221/600\n",
      "2/2 [==============================] - 1s 380ms/step - loss: 0.4971 - categorical_accuracy: 0.7833\n",
      "Epoch 222/600\n",
      "2/2 [==============================] - 1s 485ms/step - loss: 0.5320 - categorical_accuracy: 0.7167\n",
      "Epoch 223/600\n",
      "2/2 [==============================] - 1s 457ms/step - loss: 0.4336 - categorical_accuracy: 0.8333\n",
      "Epoch 224/600\n",
      "2/2 [==============================] - 1s 378ms/step - loss: 0.4616 - categorical_accuracy: 0.7833\n",
      "Epoch 225/600\n",
      "2/2 [==============================] - 1s 440ms/step - loss: 0.5272 - categorical_accuracy: 0.7667\n",
      "Epoch 226/600\n",
      "2/2 [==============================] - 0s 141ms/step - loss: 0.4837 - categorical_accuracy: 0.7500\n",
      "Epoch 227/600\n",
      "2/2 [==============================] - 0s 212ms/step - loss: 0.5883 - categorical_accuracy: 0.7667\n",
      "Epoch 228/600\n",
      "2/2 [==============================] - 1s 221ms/step - loss: 0.4239 - categorical_accuracy: 0.8000\n",
      "Epoch 229/600\n",
      "2/2 [==============================] - 1s 166ms/step - loss: 0.5121 - categorical_accuracy: 0.7500\n",
      "Epoch 230/600\n",
      "2/2 [==============================] - 0s 179ms/step - loss: 0.5144 - categorical_accuracy: 0.7667\n",
      "Epoch 231/600\n",
      "2/2 [==============================] - 0s 212ms/step - loss: 0.4980 - categorical_accuracy: 0.7833\n",
      "Epoch 232/600\n",
      "2/2 [==============================] - 0s 206ms/step - loss: 0.4524 - categorical_accuracy: 0.8167\n",
      "Epoch 233/600\n",
      "2/2 [==============================] - 0s 208ms/step - loss: 0.4155 - categorical_accuracy: 0.8000\n",
      "Epoch 234/600\n",
      "2/2 [==============================] - 0s 221ms/step - loss: 0.4562 - categorical_accuracy: 0.8167\n",
      "Epoch 235/600\n",
      "2/2 [==============================] - 0s 148ms/step - loss: 0.4856 - categorical_accuracy: 0.8000\n",
      "Epoch 236/600\n",
      "2/2 [==============================] - 0s 187ms/step - loss: 0.4083 - categorical_accuracy: 0.8000\n",
      "Epoch 237/600\n",
      "2/2 [==============================] - 0s 186ms/step - loss: 0.4496 - categorical_accuracy: 0.7333\n",
      "Epoch 238/600\n",
      "2/2 [==============================] - 0s 152ms/step - loss: 0.4710 - categorical_accuracy: 0.7333\n",
      "Epoch 239/600\n",
      "2/2 [==============================] - 0s 154ms/step - loss: 0.4646 - categorical_accuracy: 0.8000\n",
      "Epoch 240/600\n",
      "2/2 [==============================] - 1s 258ms/step - loss: 0.3982 - categorical_accuracy: 0.7667\n",
      "Epoch 241/600\n",
      "2/2 [==============================] - 0s 161ms/step - loss: 0.4531 - categorical_accuracy: 0.7833\n",
      "Epoch 242/600\n",
      "2/2 [==============================] - 0s 207ms/step - loss: 0.4414 - categorical_accuracy: 0.7833\n",
      "Epoch 243/600\n",
      "2/2 [==============================] - 0s 184ms/step - loss: 0.4101 - categorical_accuracy: 0.8167\n",
      "Epoch 244/600\n",
      "2/2 [==============================] - 0s 232ms/step - loss: 0.3664 - categorical_accuracy: 0.8500\n",
      "Epoch 245/600\n",
      "2/2 [==============================] - 0s 210ms/step - loss: 0.3631 - categorical_accuracy: 0.8000\n",
      "Epoch 246/600\n",
      "2/2 [==============================] - 0s 184ms/step - loss: 0.3377 - categorical_accuracy: 0.8500\n",
      "Epoch 247/600\n",
      "2/2 [==============================] - 0s 179ms/step - loss: 0.3510 - categorical_accuracy: 0.8667\n",
      "Epoch 248/600\n",
      "2/2 [==============================] - 0s 175ms/step - loss: 0.3358 - categorical_accuracy: 0.8500\n",
      "Epoch 249/600\n",
      "2/2 [==============================] - 0s 153ms/step - loss: 0.3802 - categorical_accuracy: 0.8167\n",
      "Epoch 250/600\n",
      "2/2 [==============================] - 0s 165ms/step - loss: 0.3134 - categorical_accuracy: 0.8500\n",
      "Epoch 251/600\n",
      "2/2 [==============================] - 0s 233ms/step - loss: 0.4062 - categorical_accuracy: 0.8000\n",
      "Epoch 252/600\n",
      "2/2 [==============================] - 0s 189ms/step - loss: 0.3217 - categorical_accuracy: 0.8333\n",
      "Epoch 253/600\n",
      "2/2 [==============================] - 0s 185ms/step - loss: 0.4510 - categorical_accuracy: 0.7667\n",
      "Epoch 254/600\n",
      "2/2 [==============================] - 0s 226ms/step - loss: 0.5202 - categorical_accuracy: 0.7500\n",
      "Epoch 255/600\n",
      "2/2 [==============================] - 0s 214ms/step - loss: 1.2328 - categorical_accuracy: 0.6333\n",
      "Epoch 256/600\n",
      "2/2 [==============================] - 0s 210ms/step - loss: 0.9314 - categorical_accuracy: 0.6667\n",
      "Epoch 257/600\n",
      "2/2 [==============================] - 0s 123ms/step - loss: 0.6574 - categorical_accuracy: 0.6333\n",
      "Epoch 258/600\n",
      "2/2 [==============================] - 0s 171ms/step - loss: 0.5548 - categorical_accuracy: 0.7333\n",
      "Epoch 259/600\n",
      "2/2 [==============================] - 0s 176ms/step - loss: 0.5684 - categorical_accuracy: 0.7667\n",
      "Epoch 260/600\n",
      "2/2 [==============================] - 0s 153ms/step - loss: 0.5640 - categorical_accuracy: 0.7333\n",
      "Epoch 261/600\n",
      "2/2 [==============================] - 0s 189ms/step - loss: 0.4796 - categorical_accuracy: 0.7833\n",
      "Epoch 262/600\n",
      "2/2 [==============================] - 0s 198ms/step - loss: 0.5019 - categorical_accuracy: 0.7667\n",
      "Epoch 263/600\n",
      "2/2 [==============================] - 0s 163ms/step - loss: 0.4849 - categorical_accuracy: 0.7833\n",
      "Epoch 264/600\n",
      "2/2 [==============================] - 0s 161ms/step - loss: 0.4469 - categorical_accuracy: 0.7667\n",
      "Epoch 265/600\n",
      "2/2 [==============================] - 0s 187ms/step - loss: 0.4306 - categorical_accuracy: 0.7833\n",
      "Epoch 266/600\n",
      "2/2 [==============================] - 0s 154ms/step - loss: 0.4372 - categorical_accuracy: 0.7667\n",
      "Epoch 267/600\n",
      "2/2 [==============================] - 0s 235ms/step - loss: 0.4095 - categorical_accuracy: 0.8000\n",
      "Epoch 268/600\n",
      "2/2 [==============================] - 1s 172ms/step - loss: 0.4117 - categorical_accuracy: 0.8333\n",
      "Epoch 269/600\n",
      "2/2 [==============================] - 0s 150ms/step - loss: 0.3611 - categorical_accuracy: 0.8500\n",
      "Epoch 270/600\n",
      "2/2 [==============================] - 0s 206ms/step - loss: 0.4233 - categorical_accuracy: 0.8500\n",
      "Epoch 271/600\n",
      "2/2 [==============================] - 1s 289ms/step - loss: 0.3942 - categorical_accuracy: 0.8500\n",
      "Epoch 272/600\n",
      "2/2 [==============================] - 0s 195ms/step - loss: 0.3560 - categorical_accuracy: 0.8167\n",
      "Epoch 273/600\n",
      "2/2 [==============================] - 0s 153ms/step - loss: 0.4133 - categorical_accuracy: 0.8333\n",
      "Epoch 274/600\n",
      "2/2 [==============================] - 0s 245ms/step - loss: 0.4050 - categorical_accuracy: 0.7667\n",
      "Epoch 275/600\n",
      "2/2 [==============================] - 0s 157ms/step - loss: 0.4033 - categorical_accuracy: 0.8500\n",
      "Epoch 276/600\n",
      "2/2 [==============================] - 0s 249ms/step - loss: 1.2536 - categorical_accuracy: 0.7500\n",
      "Epoch 277/600\n",
      "2/2 [==============================] - 0s 134ms/step - loss: 1.0256 - categorical_accuracy: 0.6000\n",
      "Epoch 278/600\n",
      "2/2 [==============================] - 0s 154ms/step - loss: 0.9581 - categorical_accuracy: 0.6167\n",
      "Epoch 279/600\n",
      "2/2 [==============================] - 1s 331ms/step - loss: 0.8229 - categorical_accuracy: 0.6000\n",
      "Epoch 280/600\n",
      "2/2 [==============================] - 1s 216ms/step - loss: 0.7471 - categorical_accuracy: 0.6000\n",
      "Epoch 281/600\n",
      "2/2 [==============================] - 0s 155ms/step - loss: 0.7446 - categorical_accuracy: 0.6000\n",
      "Epoch 282/600\n",
      "2/2 [==============================] - 0s 169ms/step - loss: 0.7540 - categorical_accuracy: 0.6000\n",
      "Epoch 283/600\n",
      "2/2 [==============================] - 0s 168ms/step - loss: 0.7454 - categorical_accuracy: 0.5833\n",
      "Epoch 284/600\n",
      "2/2 [==============================] - 0s 170ms/step - loss: 0.7216 - categorical_accuracy: 0.6333\n",
      "Epoch 285/600\n",
      "2/2 [==============================] - 0s 180ms/step - loss: 0.7162 - categorical_accuracy: 0.6167\n",
      "Epoch 286/600\n",
      "2/2 [==============================] - 0s 170ms/step - loss: 0.6916 - categorical_accuracy: 0.7000\n",
      "Epoch 287/600\n",
      "2/2 [==============================] - 0s 192ms/step - loss: 0.6865 - categorical_accuracy: 0.6000\n",
      "Epoch 288/600\n",
      "2/2 [==============================] - 0s 193ms/step - loss: 0.6381 - categorical_accuracy: 0.6500\n",
      "Epoch 289/600\n",
      "2/2 [==============================] - 0s 188ms/step - loss: 0.5892 - categorical_accuracy: 0.6833\n",
      "Epoch 290/600\n",
      "2/2 [==============================] - 0s 191ms/step - loss: 0.5899 - categorical_accuracy: 0.6833\n",
      "Epoch 291/600\n",
      "2/2 [==============================] - 1s 230ms/step - loss: 0.5625 - categorical_accuracy: 0.7667\n",
      "Epoch 292/600\n",
      "2/2 [==============================] - 0s 182ms/step - loss: 0.5775 - categorical_accuracy: 0.7333\n",
      "Epoch 293/600\n",
      "2/2 [==============================] - 1s 295ms/step - loss: 0.5425 - categorical_accuracy: 0.7667\n",
      "Epoch 294/600\n",
      "2/2 [==============================] - 0s 202ms/step - loss: 0.5606 - categorical_accuracy: 0.7833\n",
      "Epoch 295/600\n",
      "2/2 [==============================] - 0s 190ms/step - loss: 0.5427 - categorical_accuracy: 0.7667\n",
      "Epoch 296/600\n",
      "2/2 [==============================] - 0s 177ms/step - loss: 0.5071 - categorical_accuracy: 0.7833\n",
      "Epoch 297/600\n",
      "2/2 [==============================] - 0s 139ms/step - loss: 0.4894 - categorical_accuracy: 0.7333\n",
      "Epoch 298/600\n",
      "2/2 [==============================] - 0s 123ms/step - loss: 0.4594 - categorical_accuracy: 0.8000\n",
      "Epoch 299/600\n",
      "2/2 [==============================] - 0s 111ms/step - loss: 0.4513 - categorical_accuracy: 0.8000\n",
      "Epoch 300/600\n",
      "2/2 [==============================] - 0s 168ms/step - loss: 0.4463 - categorical_accuracy: 0.7333\n",
      "Epoch 301/600\n",
      "2/2 [==============================] - 0s 171ms/step - loss: 0.4110 - categorical_accuracy: 0.8167\n",
      "Epoch 302/600\n",
      "2/2 [==============================] - 0s 240ms/step - loss: 0.4674 - categorical_accuracy: 0.7833\n",
      "Epoch 303/600\n",
      "2/2 [==============================] - 0s 140ms/step - loss: 0.5610 - categorical_accuracy: 0.7167\n",
      "Epoch 304/600\n",
      "2/2 [==============================] - 0s 207ms/step - loss: 0.5041 - categorical_accuracy: 0.7500\n",
      "Epoch 305/600\n",
      "2/2 [==============================] - 1s 273ms/step - loss: 0.4371 - categorical_accuracy: 0.8000\n",
      "Epoch 306/600\n",
      "2/2 [==============================] - 0s 223ms/step - loss: 0.5264 - categorical_accuracy: 0.7333\n",
      "Epoch 307/600\n",
      "2/2 [==============================] - 0s 281ms/step - loss: 0.4879 - categorical_accuracy: 0.7667\n",
      "Epoch 308/600\n",
      "2/2 [==============================] - 0s 264ms/step - loss: 0.3762 - categorical_accuracy: 0.8167\n",
      "Epoch 309/600\n",
      "2/2 [==============================] - 0s 182ms/step - loss: 0.4508 - categorical_accuracy: 0.7667\n",
      "Epoch 310/600\n",
      "2/2 [==============================] - 0s 186ms/step - loss: 0.4520 - categorical_accuracy: 0.8000\n",
      "Epoch 311/600\n",
      "2/2 [==============================] - 0s 173ms/step - loss: 0.4058 - categorical_accuracy: 0.8000\n",
      "Epoch 312/600\n",
      "2/2 [==============================] - 0s 213ms/step - loss: 0.5398 - categorical_accuracy: 0.7167\n",
      "Epoch 313/600\n",
      "2/2 [==============================] - 0s 211ms/step - loss: 0.5156 - categorical_accuracy: 0.6833\n",
      "Epoch 314/600\n",
      "2/2 [==============================] - 0s 173ms/step - loss: 0.4134 - categorical_accuracy: 0.8000\n",
      "Epoch 315/600\n",
      "2/2 [==============================] - 0s 246ms/step - loss: 0.7322 - categorical_accuracy: 0.6833\n",
      "Epoch 316/600\n",
      "2/2 [==============================] - 1s 401ms/step - loss: 0.7203 - categorical_accuracy: 0.6667\n",
      "Epoch 317/600\n",
      "2/2 [==============================] - 1s 233ms/step - loss: 0.4589 - categorical_accuracy: 0.8000\n",
      "Epoch 318/600\n",
      "2/2 [==============================] - 0s 257ms/step - loss: 0.6247 - categorical_accuracy: 0.6833\n",
      "Epoch 319/600\n",
      "2/2 [==============================] - 0s 218ms/step - loss: 0.6985 - categorical_accuracy: 0.7000\n",
      "Epoch 320/600\n",
      "2/2 [==============================] - 0s 164ms/step - loss: 0.5079 - categorical_accuracy: 0.7167\n",
      "Epoch 321/600\n",
      "2/2 [==============================] - 0s 141ms/step - loss: 0.7372 - categorical_accuracy: 0.7000\n",
      "Epoch 322/600\n",
      "2/2 [==============================] - 0s 220ms/step - loss: 0.5315 - categorical_accuracy: 0.7500\n",
      "Epoch 323/600\n",
      "2/2 [==============================] - 1s 242ms/step - loss: 0.7104 - categorical_accuracy: 0.6333\n",
      "Epoch 324/600\n",
      "2/2 [==============================] - 0s 239ms/step - loss: 0.7777 - categorical_accuracy: 0.7000\n",
      "Epoch 325/600\n",
      "2/2 [==============================] - 0s 191ms/step - loss: 0.9766 - categorical_accuracy: 0.7667\n",
      "Epoch 326/600\n",
      "2/2 [==============================] - 0s 213ms/step - loss: 0.5740 - categorical_accuracy: 0.7333\n",
      "Epoch 327/600\n",
      "2/2 [==============================] - 0s 195ms/step - loss: 0.6190 - categorical_accuracy: 0.7500\n",
      "Epoch 328/600\n",
      "2/2 [==============================] - 0s 228ms/step - loss: 0.5483 - categorical_accuracy: 0.8000\n",
      "Epoch 329/600\n",
      "2/2 [==============================] - 0s 184ms/step - loss: 0.5217 - categorical_accuracy: 0.8000\n",
      "Epoch 330/600\n",
      "2/2 [==============================] - 0s 204ms/step - loss: 0.5000 - categorical_accuracy: 0.8333\n",
      "Epoch 331/600\n",
      "2/2 [==============================] - 0s 180ms/step - loss: 0.4867 - categorical_accuracy: 0.8333\n",
      "Epoch 332/600\n",
      "2/2 [==============================] - 1s 187ms/step - loss: 0.5549 - categorical_accuracy: 0.8167\n",
      "Epoch 333/600\n",
      "2/2 [==============================] - 0s 201ms/step - loss: 0.4870 - categorical_accuracy: 0.8000\n",
      "Epoch 334/600\n",
      "2/2 [==============================] - 0s 182ms/step - loss: 0.4776 - categorical_accuracy: 0.7667\n",
      "Epoch 335/600\n",
      "2/2 [==============================] - 1s 249ms/step - loss: 0.4908 - categorical_accuracy: 0.7500\n",
      "Epoch 336/600\n",
      "2/2 [==============================] - 0s 212ms/step - loss: 0.4542 - categorical_accuracy: 0.8000\n",
      "Epoch 337/600\n",
      "2/2 [==============================] - 0s 163ms/step - loss: 0.4444 - categorical_accuracy: 0.7833\n",
      "Epoch 338/600\n",
      "2/2 [==============================] - 0s 213ms/step - loss: 0.4305 - categorical_accuracy: 0.8167\n",
      "Epoch 339/600\n",
      "2/2 [==============================] - 0s 223ms/step - loss: 0.4201 - categorical_accuracy: 0.8333\n",
      "Epoch 340/600\n",
      "2/2 [==============================] - 0s 202ms/step - loss: 0.3816 - categorical_accuracy: 0.8333\n",
      "Epoch 341/600\n",
      "2/2 [==============================] - 0s 222ms/step - loss: 0.3735 - categorical_accuracy: 0.8000\n",
      "Epoch 342/600\n",
      "2/2 [==============================] - 1s 363ms/step - loss: 0.3616 - categorical_accuracy: 0.8333\n",
      "Epoch 343/600\n",
      "2/2 [==============================] - 0s 219ms/step - loss: 0.3553 - categorical_accuracy: 0.8333\n",
      "Epoch 344/600\n",
      "2/2 [==============================] - 1s 226ms/step - loss: 0.8031 - categorical_accuracy: 0.8167\n",
      "Epoch 345/600\n",
      "2/2 [==============================] - 1s 224ms/step - loss: 2.4009 - categorical_accuracy: 0.4500\n",
      "Epoch 346/600\n",
      "2/2 [==============================] - 1s 274ms/step - loss: 1.1945 - categorical_accuracy: 0.6500\n",
      "Epoch 347/600\n",
      "2/2 [==============================] - 0s 331ms/step - loss: 1.7996 - categorical_accuracy: 0.5000\n",
      "Epoch 348/600\n",
      "2/2 [==============================] - 0s 169ms/step - loss: 1.2517 - categorical_accuracy: 0.5000\n",
      "Epoch 349/600\n",
      "2/2 [==============================] - 0s 147ms/step - loss: 1.3910 - categorical_accuracy: 0.5500\n",
      "Epoch 350/600\n",
      "2/2 [==============================] - 0s 204ms/step - loss: 0.9864 - categorical_accuracy: 0.5000\n",
      "Epoch 351/600\n",
      "2/2 [==============================] - 0s 250ms/step - loss: 1.3072 - categorical_accuracy: 0.4333\n",
      "Epoch 352/600\n",
      "2/2 [==============================] - 1s 251ms/step - loss: 0.9262 - categorical_accuracy: 0.5333\n",
      "Epoch 353/600\n",
      "2/2 [==============================] - 0s 219ms/step - loss: 1.0541 - categorical_accuracy: 0.6000\n",
      "Epoch 354/600\n",
      "2/2 [==============================] - 1s 415ms/step - loss: 0.9646 - categorical_accuracy: 0.5833\n",
      "Epoch 355/600\n",
      "2/2 [==============================] - 1s 275ms/step - loss: 0.7791 - categorical_accuracy: 0.6500\n",
      "Epoch 356/600\n",
      "2/2 [==============================] - 1s 239ms/step - loss: 0.8915 - categorical_accuracy: 0.5667\n",
      "Epoch 357/600\n",
      "2/2 [==============================] - 1s 381ms/step - loss: 0.8680 - categorical_accuracy: 0.5667\n",
      "Epoch 358/600\n",
      "2/2 [==============================] - 1s 296ms/step - loss: 0.7511 - categorical_accuracy: 0.6667\n",
      "Epoch 359/600\n",
      "2/2 [==============================] - 1s 349ms/step - loss: 0.7394 - categorical_accuracy: 0.6333\n",
      "Epoch 360/600\n",
      "2/2 [==============================] - 1s 356ms/step - loss: 0.7450 - categorical_accuracy: 0.6333\n",
      "Epoch 361/600\n",
      "2/2 [==============================] - 0s 221ms/step - loss: 0.6842 - categorical_accuracy: 0.6833\n",
      "Epoch 362/600\n",
      "2/2 [==============================] - 1s 301ms/step - loss: 0.6941 - categorical_accuracy: 0.6833\n",
      "Epoch 363/600\n",
      "2/2 [==============================] - 0s 174ms/step - loss: 0.6679 - categorical_accuracy: 0.7000\n",
      "Epoch 364/600\n",
      "2/2 [==============================] - 0s 221ms/step - loss: 0.6161 - categorical_accuracy: 0.7500\n",
      "Epoch 365/600\n",
      "2/2 [==============================] - 1s 314ms/step - loss: 0.6369 - categorical_accuracy: 0.7000\n",
      "Epoch 366/600\n",
      "2/2 [==============================] - 0s 192ms/step - loss: 0.6108 - categorical_accuracy: 0.6833\n",
      "Epoch 367/600\n",
      "2/2 [==============================] - 0s 157ms/step - loss: 0.5843 - categorical_accuracy: 0.7167\n",
      "Epoch 368/600\n",
      "2/2 [==============================] - 1s 273ms/step - loss: 0.5744 - categorical_accuracy: 0.7333\n",
      "Epoch 369/600\n",
      "2/2 [==============================] - 1s 513ms/step - loss: 0.5613 - categorical_accuracy: 0.7333\n",
      "Epoch 370/600\n",
      "2/2 [==============================] - 1s 315ms/step - loss: 0.6002 - categorical_accuracy: 0.7333\n",
      "Epoch 371/600\n",
      "2/2 [==============================] - 0s 186ms/step - loss: 0.5912 - categorical_accuracy: 0.7167\n",
      "Epoch 372/600\n",
      "2/2 [==============================] - 1s 418ms/step - loss: 0.5548 - categorical_accuracy: 0.7500\n",
      "Epoch 373/600\n",
      "2/2 [==============================] - 1s 207ms/step - loss: 0.5530 - categorical_accuracy: 0.7000\n",
      "Epoch 374/600\n",
      "2/2 [==============================] - 0s 227ms/step - loss: 0.4869 - categorical_accuracy: 0.7500\n",
      "Epoch 375/600\n",
      "2/2 [==============================] - 0s 210ms/step - loss: 0.5039 - categorical_accuracy: 0.7667\n",
      "Epoch 376/600\n",
      "2/2 [==============================] - 1s 240ms/step - loss: 0.4847 - categorical_accuracy: 0.7833\n",
      "Epoch 377/600\n",
      "2/2 [==============================] - 0s 227ms/step - loss: 0.4995 - categorical_accuracy: 0.7333\n",
      "Epoch 378/600\n",
      "2/2 [==============================] - 1s 274ms/step - loss: 0.4907 - categorical_accuracy: 0.7333\n",
      "Epoch 379/600\n",
      "2/2 [==============================] - 0s 202ms/step - loss: 0.4652 - categorical_accuracy: 0.7500\n",
      "Epoch 380/600\n",
      "2/2 [==============================] - 0s 198ms/step - loss: 0.4905 - categorical_accuracy: 0.7500\n",
      "Epoch 381/600\n",
      "2/2 [==============================] - 1s 204ms/step - loss: 0.4560 - categorical_accuracy: 0.7833\n",
      "Epoch 382/600\n",
      "2/2 [==============================] - 1s 381ms/step - loss: 0.4923 - categorical_accuracy: 0.7500\n",
      "Epoch 383/600\n",
      "2/2 [==============================] - 1s 286ms/step - loss: 0.4384 - categorical_accuracy: 0.7833\n",
      "Epoch 384/600\n",
      "2/2 [==============================] - 1s 352ms/step - loss: 0.4634 - categorical_accuracy: 0.7667\n",
      "Epoch 385/600\n",
      "2/2 [==============================] - 1s 216ms/step - loss: 0.4487 - categorical_accuracy: 0.7833\n",
      "Epoch 386/600\n",
      "2/2 [==============================] - 0s 137ms/step - loss: 0.4565 - categorical_accuracy: 0.7833\n",
      "Epoch 387/600\n",
      "2/2 [==============================] - 0s 232ms/step - loss: 0.4816 - categorical_accuracy: 0.7167\n",
      "Epoch 388/600\n",
      "2/2 [==============================] - 0s 241ms/step - loss: 0.4772 - categorical_accuracy: 0.7667\n",
      "Epoch 389/600\n",
      "2/2 [==============================] - 1s 336ms/step - loss: 0.5150 - categorical_accuracy: 0.7500\n",
      "Epoch 390/600\n",
      "2/2 [==============================] - 0s 185ms/step - loss: 0.5681 - categorical_accuracy: 0.6833\n",
      "Epoch 391/600\n",
      "2/2 [==============================] - 0s 225ms/step - loss: 0.4700 - categorical_accuracy: 0.7000\n",
      "Epoch 392/600\n",
      "2/2 [==============================] - 0s 198ms/step - loss: 0.5328 - categorical_accuracy: 0.7833\n",
      "Epoch 393/600\n",
      "2/2 [==============================] - 0s 138ms/step - loss: 0.5295 - categorical_accuracy: 0.8000\n",
      "Epoch 394/600\n",
      "2/2 [==============================] - 0s 187ms/step - loss: 0.5871 - categorical_accuracy: 0.6833\n",
      "Epoch 395/600\n",
      "2/2 [==============================] - 0s 161ms/step - loss: 0.4632 - categorical_accuracy: 0.7500\n",
      "Epoch 396/600\n",
      "2/2 [==============================] - 0s 204ms/step - loss: 0.5730 - categorical_accuracy: 0.6833\n",
      "Epoch 397/600\n",
      "2/2 [==============================] - 1s 238ms/step - loss: 0.5337 - categorical_accuracy: 0.7000\n",
      "Epoch 398/600\n",
      "2/2 [==============================] - 0s 199ms/step - loss: 0.4356 - categorical_accuracy: 0.7833\n",
      "Epoch 399/600\n",
      "2/2 [==============================] - 0s 168ms/step - loss: 0.5570 - categorical_accuracy: 0.7500\n",
      "Epoch 400/600\n",
      "2/2 [==============================] - 0s 161ms/step - loss: 0.4358 - categorical_accuracy: 0.8167\n",
      "Epoch 401/600\n",
      "2/2 [==============================] - 0s 188ms/step - loss: 0.4613 - categorical_accuracy: 0.7667\n",
      "Epoch 402/600\n",
      "2/2 [==============================] - 0s 189ms/step - loss: 0.4566 - categorical_accuracy: 0.7667\n",
      "Epoch 403/600\n",
      "2/2 [==============================] - 0s 173ms/step - loss: 0.4291 - categorical_accuracy: 0.7667\n",
      "Epoch 404/600\n",
      "2/2 [==============================] - 0s 182ms/step - loss: 0.4600 - categorical_accuracy: 0.7833\n",
      "Epoch 405/600\n",
      "2/2 [==============================] - 0s 264ms/step - loss: 0.3769 - categorical_accuracy: 0.8167\n",
      "Epoch 406/600\n",
      "2/2 [==============================] - 0s 174ms/step - loss: 0.4341 - categorical_accuracy: 0.8000\n",
      "Epoch 407/600\n",
      "2/2 [==============================] - 0s 140ms/step - loss: 0.3899 - categorical_accuracy: 0.8167\n",
      "Epoch 408/600\n",
      "2/2 [==============================] - 0s 156ms/step - loss: 0.4002 - categorical_accuracy: 0.8333\n",
      "Epoch 409/600\n",
      "2/2 [==============================] - 1s 342ms/step - loss: 0.3924 - categorical_accuracy: 0.7833\n",
      "Epoch 410/600\n",
      "2/2 [==============================] - 0s 204ms/step - loss: 0.3604 - categorical_accuracy: 0.8000\n",
      "Epoch 411/600\n",
      "2/2 [==============================] - 0s 225ms/step - loss: 0.3951 - categorical_accuracy: 0.8167\n",
      "Epoch 412/600\n",
      "2/2 [==============================] - 0s 252ms/step - loss: 0.3821 - categorical_accuracy: 0.8500\n",
      "Epoch 413/600\n",
      "2/2 [==============================] - 0s 187ms/step - loss: 0.3641 - categorical_accuracy: 0.8000\n",
      "Epoch 414/600\n",
      "2/2 [==============================] - 0s 192ms/step - loss: 0.3964 - categorical_accuracy: 0.8000\n",
      "Epoch 415/600\n",
      "2/2 [==============================] - 0s 143ms/step - loss: 0.3295 - categorical_accuracy: 0.8333\n",
      "Epoch 416/600\n",
      "2/2 [==============================] - 0s 177ms/step - loss: 0.3531 - categorical_accuracy: 0.8667\n",
      "Epoch 417/600\n",
      "2/2 [==============================] - 0s 187ms/step - loss: 0.3097 - categorical_accuracy: 0.8500\n",
      "Epoch 418/600\n",
      "2/2 [==============================] - 0s 171ms/step - loss: 0.3294 - categorical_accuracy: 0.8500\n",
      "Epoch 419/600\n",
      "2/2 [==============================] - 0s 199ms/step - loss: 0.3087 - categorical_accuracy: 0.8333\n",
      "Epoch 420/600\n",
      "2/2 [==============================] - 0s 167ms/step - loss: 0.2993 - categorical_accuracy: 0.8333\n",
      "Epoch 421/600\n",
      "2/2 [==============================] - 0s 140ms/step - loss: 0.2935 - categorical_accuracy: 0.8500\n",
      "Epoch 422/600\n",
      "2/2 [==============================] - 0s 133ms/step - loss: 0.3373 - categorical_accuracy: 0.8333\n",
      "Epoch 423/600\n",
      "2/2 [==============================] - 1s 321ms/step - loss: 0.2967 - categorical_accuracy: 0.8667\n",
      "Epoch 424/600\n",
      "2/2 [==============================] - 1s 366ms/step - loss: 0.2991 - categorical_accuracy: 0.8500\n",
      "Epoch 425/600\n",
      "2/2 [==============================] - 0s 156ms/step - loss: 0.3599 - categorical_accuracy: 0.8167\n",
      "Epoch 426/600\n",
      "2/2 [==============================] - 0s 189ms/step - loss: 0.2744 - categorical_accuracy: 0.8500\n",
      "Epoch 427/600\n",
      "2/2 [==============================] - 0s 182ms/step - loss: 0.3182 - categorical_accuracy: 0.8333\n",
      "Epoch 428/600\n",
      "2/2 [==============================] - 0s 162ms/step - loss: 0.2957 - categorical_accuracy: 0.8500\n",
      "Epoch 429/600\n",
      "2/2 [==============================] - 0s 135ms/step - loss: 0.2986 - categorical_accuracy: 0.8500\n",
      "Epoch 430/600\n",
      "2/2 [==============================] - 0s 193ms/step - loss: 0.3263 - categorical_accuracy: 0.8500\n",
      "Epoch 431/600\n",
      "2/2 [==============================] - 0s 177ms/step - loss: 0.4192 - categorical_accuracy: 0.8500\n",
      "Epoch 432/600\n",
      "2/2 [==============================] - 0s 174ms/step - loss: 0.3744 - categorical_accuracy: 0.8167\n",
      "Epoch 433/600\n",
      "2/2 [==============================] - 0s 180ms/step - loss: 0.3495 - categorical_accuracy: 0.8333\n",
      "Epoch 434/600\n",
      "2/2 [==============================] - 1s 241ms/step - loss: 0.3022 - categorical_accuracy: 0.8500\n",
      "Epoch 435/600\n",
      "2/2 [==============================] - 0s 205ms/step - loss: 0.3132 - categorical_accuracy: 0.8333\n",
      "Epoch 436/600\n",
      "2/2 [==============================] - 0s 138ms/step - loss: 0.3087 - categorical_accuracy: 0.8667\n",
      "Epoch 437/600\n",
      "2/2 [==============================] - 0s 190ms/step - loss: 0.2827 - categorical_accuracy: 0.8667\n",
      "Epoch 438/600\n",
      "2/2 [==============================] - 0s 149ms/step - loss: 0.2696 - categorical_accuracy: 0.8833\n",
      "Epoch 439/600\n",
      "2/2 [==============================] - 0s 206ms/step - loss: 0.2816 - categorical_accuracy: 0.8500\n",
      "Epoch 440/600\n",
      "2/2 [==============================] - 0s 228ms/step - loss: 0.2740 - categorical_accuracy: 0.8500\n",
      "Epoch 441/600\n",
      "2/2 [==============================] - 0s 216ms/step - loss: 0.2438 - categorical_accuracy: 0.9500\n",
      "Epoch 442/600\n",
      "2/2 [==============================] - 1s 365ms/step - loss: 0.2681 - categorical_accuracy: 0.9167\n",
      "Epoch 443/600\n",
      "2/2 [==============================] - 0s 139ms/step - loss: 0.2448 - categorical_accuracy: 0.8833\n",
      "Epoch 444/600\n",
      "2/2 [==============================] - 0s 167ms/step - loss: 0.2290 - categorical_accuracy: 0.9000\n",
      "Epoch 445/600\n",
      "2/2 [==============================] - 0s 251ms/step - loss: 0.2791 - categorical_accuracy: 0.8833\n",
      "Epoch 446/600\n",
      "2/2 [==============================] - 0s 216ms/step - loss: 0.2320 - categorical_accuracy: 0.9167\n",
      "Epoch 447/600\n",
      "2/2 [==============================] - 0s 211ms/step - loss: 0.2604 - categorical_accuracy: 0.8667\n",
      "Epoch 448/600\n",
      "2/2 [==============================] - 1s 224ms/step - loss: 0.2650 - categorical_accuracy: 0.8500\n",
      "Epoch 449/600\n",
      "2/2 [==============================] - 1s 284ms/step - loss: 0.2545 - categorical_accuracy: 0.8833\n",
      "Epoch 450/600\n",
      "2/2 [==============================] - 1s 285ms/step - loss: 0.2261 - categorical_accuracy: 0.9167\n",
      "Epoch 451/600\n",
      "2/2 [==============================] - 0s 206ms/step - loss: 0.3763 - categorical_accuracy: 0.8167\n",
      "Epoch 452/600\n",
      "2/2 [==============================] - 0s 192ms/step - loss: 0.7795 - categorical_accuracy: 0.7667\n",
      "Epoch 453/600\n",
      "2/2 [==============================] - 0s 234ms/step - loss: 1.8382 - categorical_accuracy: 0.5500\n",
      "Epoch 454/600\n",
      "2/2 [==============================] - 0s 198ms/step - loss: 1.4538 - categorical_accuracy: 0.7000\n",
      "Epoch 455/600\n",
      "2/2 [==============================] - 0s 211ms/step - loss: 1.0172 - categorical_accuracy: 0.5500\n",
      "Epoch 456/600\n",
      "2/2 [==============================] - 1s 203ms/step - loss: 0.8596 - categorical_accuracy: 0.5667\n",
      "Epoch 457/600\n",
      "2/2 [==============================] - 1s 454ms/step - loss: 0.8582 - categorical_accuracy: 0.5833\n",
      "Epoch 458/600\n",
      "2/2 [==============================] - 0s 157ms/step - loss: 0.6608 - categorical_accuracy: 0.7333\n",
      "Epoch 459/600\n",
      "2/2 [==============================] - 0s 117ms/step - loss: 0.7693 - categorical_accuracy: 0.7000\n",
      "Epoch 460/600\n",
      "2/2 [==============================] - 0s 164ms/step - loss: 0.6709 - categorical_accuracy: 0.6833\n",
      "Epoch 461/600\n",
      "2/2 [==============================] - 0s 185ms/step - loss: 0.6708 - categorical_accuracy: 0.7000\n",
      "Epoch 462/600\n",
      "2/2 [==============================] - 0s 207ms/step - loss: 0.6095 - categorical_accuracy: 0.7167\n",
      "Epoch 463/600\n",
      "2/2 [==============================] - 0s 178ms/step - loss: 0.6676 - categorical_accuracy: 0.6833\n",
      "Epoch 464/600\n",
      "2/2 [==============================] - 0s 173ms/step - loss: 0.6061 - categorical_accuracy: 0.7333\n",
      "Epoch 465/600\n",
      "2/2 [==============================] - 0s 151ms/step - loss: 0.5792 - categorical_accuracy: 0.7667\n",
      "Epoch 466/600\n",
      "2/2 [==============================] - 1s 353ms/step - loss: 0.5852 - categorical_accuracy: 0.7833\n",
      "Epoch 467/600\n",
      "2/2 [==============================] - 0s 196ms/step - loss: 0.5504 - categorical_accuracy: 0.7667\n",
      "Epoch 468/600\n",
      "2/2 [==============================] - 0s 238ms/step - loss: 0.5463 - categorical_accuracy: 0.7500\n",
      "Epoch 469/600\n",
      "2/2 [==============================] - 0s 194ms/step - loss: 0.5250 - categorical_accuracy: 0.7833\n",
      "Epoch 470/600\n",
      "2/2 [==============================] - 0s 208ms/step - loss: 0.5118 - categorical_accuracy: 0.8167\n",
      "Epoch 471/600\n",
      "2/2 [==============================] - 0s 174ms/step - loss: 0.5107 - categorical_accuracy: 0.7833\n",
      "Epoch 472/600\n",
      "2/2 [==============================] - 0s 170ms/step - loss: 0.4897 - categorical_accuracy: 0.8167\n",
      "Epoch 473/600\n",
      "2/2 [==============================] - 0s 203ms/step - loss: 0.4855 - categorical_accuracy: 0.7833\n",
      "Epoch 474/600\n",
      "2/2 [==============================] - 0s 230ms/step - loss: 0.4574 - categorical_accuracy: 0.8000\n",
      "Epoch 475/600\n",
      "2/2 [==============================] - 0s 202ms/step - loss: 0.4504 - categorical_accuracy: 0.8167\n",
      "Epoch 476/600\n",
      "2/2 [==============================] - 0s 121ms/step - loss: 0.4172 - categorical_accuracy: 0.8333\n",
      "Epoch 477/600\n",
      "2/2 [==============================] - 0s 136ms/step - loss: 0.4098 - categorical_accuracy: 0.8167\n",
      "Epoch 478/600\n",
      "2/2 [==============================] - 0s 126ms/step - loss: 0.4129 - categorical_accuracy: 0.7333\n",
      "Epoch 479/600\n",
      "2/2 [==============================] - 0s 113ms/step - loss: 0.3797 - categorical_accuracy: 0.8000\n",
      "Epoch 480/600\n",
      "2/2 [==============================] - 0s 203ms/step - loss: 0.3783 - categorical_accuracy: 0.8167\n",
      "Epoch 481/600\n",
      "2/2 [==============================] - 0s 271ms/step - loss: 0.3712 - categorical_accuracy: 0.7833\n",
      "Epoch 482/600\n",
      "2/2 [==============================] - 0s 244ms/step - loss: 0.3395 - categorical_accuracy: 0.8500\n",
      "Epoch 483/600\n",
      "2/2 [==============================] - 0s 146ms/step - loss: 0.3500 - categorical_accuracy: 0.8167\n",
      "Epoch 484/600\n",
      "2/2 [==============================] - 0s 174ms/step - loss: 0.3247 - categorical_accuracy: 0.8333\n",
      "Epoch 485/600\n",
      "2/2 [==============================] - 0s 277ms/step - loss: 0.3125 - categorical_accuracy: 0.8500\n",
      "Epoch 486/600\n",
      "2/2 [==============================] - 1s 179ms/step - loss: 0.3148 - categorical_accuracy: 0.8667\n",
      "Epoch 487/600\n",
      "2/2 [==============================] - 0s 181ms/step - loss: 0.3131 - categorical_accuracy: 0.8500\n",
      "Epoch 488/600\n",
      "2/2 [==============================] - 1s 218ms/step - loss: 0.2814 - categorical_accuracy: 0.9000\n",
      "Epoch 489/600\n",
      "2/2 [==============================] - 0s 199ms/step - loss: 0.3100 - categorical_accuracy: 0.8333\n",
      "Epoch 490/600\n",
      "2/2 [==============================] - 0s 236ms/step - loss: 0.2928 - categorical_accuracy: 0.8500\n",
      "Epoch 491/600\n",
      "2/2 [==============================] - 0s 200ms/step - loss: 0.3227 - categorical_accuracy: 0.8500\n",
      "Epoch 492/600\n",
      "2/2 [==============================] - 0s 235ms/step - loss: 0.3453 - categorical_accuracy: 0.8500\n",
      "Epoch 493/600\n",
      "2/2 [==============================] - 0s 170ms/step - loss: 0.3364 - categorical_accuracy: 0.8167\n",
      "Epoch 494/600\n",
      "2/2 [==============================] - 0s 172ms/step - loss: 0.3007 - categorical_accuracy: 0.8333\n",
      "Epoch 495/600\n",
      "2/2 [==============================] - 0s 131ms/step - loss: 0.2792 - categorical_accuracy: 0.9000\n",
      "Epoch 496/600\n",
      "2/2 [==============================] - 0s 122ms/step - loss: 0.3054 - categorical_accuracy: 0.8333\n",
      "Epoch 497/600\n",
      "2/2 [==============================] - 0s 109ms/step - loss: 0.3265 - categorical_accuracy: 0.8167\n",
      "Epoch 498/600\n",
      "2/2 [==============================] - 0s 205ms/step - loss: 0.2845 - categorical_accuracy: 0.8500\n",
      "Epoch 499/600\n",
      "2/2 [==============================] - 1s 268ms/step - loss: 0.3002 - categorical_accuracy: 0.8333\n",
      "Epoch 500/600\n",
      "2/2 [==============================] - 0s 146ms/step - loss: 0.2587 - categorical_accuracy: 0.8833\n",
      "Epoch 501/600\n",
      "2/2 [==============================] - 0s 206ms/step - loss: 0.2650 - categorical_accuracy: 0.8500\n",
      "Epoch 502/600\n",
      "2/2 [==============================] - 0s 228ms/step - loss: 1.0375 - categorical_accuracy: 0.8000\n",
      "Epoch 503/600\n",
      "2/2 [==============================] - 1s 237ms/step - loss: 1.8600 - categorical_accuracy: 0.6167\n",
      "Epoch 504/600\n",
      "2/2 [==============================] - 1s 225ms/step - loss: 0.9529 - categorical_accuracy: 0.7000\n",
      "Epoch 505/600\n",
      "2/2 [==============================] - 1s 387ms/step - loss: 0.8382 - categorical_accuracy: 0.6167\n",
      "Epoch 506/600\n",
      "2/2 [==============================] - 1s 263ms/step - loss: 0.7620 - categorical_accuracy: 0.6667\n",
      "Epoch 507/600\n",
      "2/2 [==============================] - 1s 329ms/step - loss: 0.7978 - categorical_accuracy: 0.5667\n",
      "Epoch 508/600\n",
      "2/2 [==============================] - 0s 291ms/step - loss: 0.4484 - categorical_accuracy: 0.7833\n",
      "Epoch 509/600\n",
      "2/2 [==============================] - 0s 141ms/step - loss: 0.7008 - categorical_accuracy: 0.6833\n",
      "Epoch 510/600\n",
      "2/2 [==============================] - 0s 212ms/step - loss: 0.4366 - categorical_accuracy: 0.8167\n",
      "Epoch 511/600\n",
      "2/2 [==============================] - 0s 159ms/step - loss: 0.6533 - categorical_accuracy: 0.6167\n",
      "Epoch 512/600\n",
      "2/2 [==============================] - 0s 204ms/step - loss: 0.4611 - categorical_accuracy: 0.8333\n",
      "Epoch 513/600\n",
      "2/2 [==============================] - 0s 208ms/step - loss: 0.6448 - categorical_accuracy: 0.7167\n",
      "Epoch 514/600\n",
      "2/2 [==============================] - 1s 377ms/step - loss: 0.4270 - categorical_accuracy: 0.8167\n",
      "Epoch 515/600\n",
      "2/2 [==============================] - 0s 225ms/step - loss: 0.5047 - categorical_accuracy: 0.7333\n",
      "Epoch 516/600\n",
      "2/2 [==============================] - 0s 176ms/step - loss: 0.3876 - categorical_accuracy: 0.8667\n",
      "Epoch 517/600\n",
      "2/2 [==============================] - 0s 198ms/step - loss: 0.4852 - categorical_accuracy: 0.8333\n",
      "Epoch 518/600\n",
      "2/2 [==============================] - 0s 200ms/step - loss: 0.3912 - categorical_accuracy: 0.9000\n",
      "Epoch 519/600\n",
      "2/2 [==============================] - 1s 199ms/step - loss: 0.4194 - categorical_accuracy: 0.8333\n",
      "Epoch 520/600\n",
      "2/2 [==============================] - 1s 330ms/step - loss: 0.4053 - categorical_accuracy: 0.8167\n",
      "Epoch 521/600\n",
      "2/2 [==============================] - 1s 242ms/step - loss: 0.3875 - categorical_accuracy: 0.8500\n",
      "Epoch 522/600\n",
      "2/2 [==============================] - 0s 196ms/step - loss: 0.3822 - categorical_accuracy: 0.8667\n",
      "Epoch 523/600\n",
      "2/2 [==============================] - 0s 276ms/step - loss: 0.3687 - categorical_accuracy: 0.8500\n",
      "Epoch 524/600\n",
      "2/2 [==============================] - 0s 249ms/step - loss: 0.3437 - categorical_accuracy: 0.8667\n",
      "Epoch 525/600\n",
      "2/2 [==============================] - 0s 215ms/step - loss: 0.3335 - categorical_accuracy: 0.8500\n",
      "Epoch 526/600\n",
      "2/2 [==============================] - 1s 320ms/step - loss: 0.3416 - categorical_accuracy: 0.8667\n",
      "Epoch 527/600\n",
      "2/2 [==============================] - 0s 199ms/step - loss: 0.3157 - categorical_accuracy: 0.8667\n",
      "Epoch 528/600\n",
      "2/2 [==============================] - 0s 207ms/step - loss: 0.3326 - categorical_accuracy: 0.8667\n",
      "Epoch 529/600\n",
      "2/2 [==============================] - 0s 175ms/step - loss: 0.3010 - categorical_accuracy: 0.8667\n",
      "Epoch 530/600\n",
      "2/2 [==============================] - 0s 166ms/step - loss: 0.3243 - categorical_accuracy: 0.8667\n",
      "Epoch 531/600\n",
      "2/2 [==============================] - 0s 173ms/step - loss: 0.2979 - categorical_accuracy: 0.8500\n",
      "Epoch 532/600\n",
      "2/2 [==============================] - 1s 374ms/step - loss: 0.3038 - categorical_accuracy: 0.8833\n",
      "Epoch 533/600\n",
      "2/2 [==============================] - 1s 279ms/step - loss: 0.3141 - categorical_accuracy: 0.8500\n",
      "Epoch 534/600\n",
      "2/2 [==============================] - 0s 180ms/step - loss: 0.2915 - categorical_accuracy: 0.8667\n",
      "Epoch 535/600\n",
      "2/2 [==============================] - 1s 222ms/step - loss: 0.3295 - categorical_accuracy: 0.8500\n",
      "Epoch 536/600\n",
      "2/2 [==============================] - 1s 364ms/step - loss: 0.2786 - categorical_accuracy: 0.8667\n",
      "Epoch 537/600\n",
      "2/2 [==============================] - 0s 185ms/step - loss: 0.2900 - categorical_accuracy: 0.8833\n",
      "Epoch 538/600\n",
      "2/2 [==============================] - 0s 205ms/step - loss: 0.2657 - categorical_accuracy: 0.9000\n",
      "Epoch 539/600\n",
      "2/2 [==============================] - 0s 157ms/step - loss: 0.2549 - categorical_accuracy: 0.9167\n",
      "Epoch 540/600\n",
      "2/2 [==============================] - 0s 136ms/step - loss: 0.2520 - categorical_accuracy: 0.9000\n",
      "Epoch 541/600\n",
      "2/2 [==============================] - 0s 215ms/step - loss: 0.2493 - categorical_accuracy: 0.8833\n",
      "Epoch 542/600\n",
      "2/2 [==============================] - 1s 385ms/step - loss: 0.2698 - categorical_accuracy: 0.8500\n",
      "Epoch 543/600\n",
      "2/2 [==============================] - 0s 220ms/step - loss: 0.2132 - categorical_accuracy: 0.9000\n",
      "Epoch 544/600\n",
      "2/2 [==============================] - 0s 193ms/step - loss: 0.2693 - categorical_accuracy: 0.9000\n",
      "Epoch 545/600\n",
      "2/2 [==============================] - 0s 175ms/step - loss: 0.2104 - categorical_accuracy: 0.9167\n",
      "Epoch 546/600\n",
      "2/2 [==============================] - 0s 176ms/step - loss: 0.2798 - categorical_accuracy: 0.8833\n",
      "Epoch 547/600\n",
      "2/2 [==============================] - 0s 205ms/step - loss: 0.2157 - categorical_accuracy: 0.8833\n",
      "Epoch 548/600\n",
      "2/2 [==============================] - 0s 170ms/step - loss: 0.2588 - categorical_accuracy: 0.9167\n",
      "Epoch 549/600\n",
      "2/2 [==============================] - 0s 215ms/step - loss: 0.2197 - categorical_accuracy: 0.8833\n",
      "Epoch 550/600\n",
      "2/2 [==============================] - 0s 176ms/step - loss: 0.3213 - categorical_accuracy: 0.8333\n",
      "Epoch 551/600\n",
      "2/2 [==============================] - 1s 214ms/step - loss: 0.2376 - categorical_accuracy: 0.8667\n",
      "Epoch 552/600\n",
      "2/2 [==============================] - 0s 190ms/step - loss: 0.2667 - categorical_accuracy: 0.9000\n",
      "Epoch 553/600\n",
      "2/2 [==============================] - 0s 200ms/step - loss: 0.2841 - categorical_accuracy: 0.9000\n",
      "Epoch 554/600\n",
      "2/2 [==============================] - 1s 287ms/step - loss: 0.2018 - categorical_accuracy: 0.9333\n",
      "Epoch 555/600\n",
      "2/2 [==============================] - 1s 274ms/step - loss: 0.2946 - categorical_accuracy: 0.8500\n",
      "Epoch 556/600\n",
      "2/2 [==============================] - 1s 195ms/step - loss: 0.2311 - categorical_accuracy: 0.9167\n",
      "Epoch 557/600\n",
      "2/2 [==============================] - 1s 220ms/step - loss: 0.2176 - categorical_accuracy: 0.8667\n",
      "Epoch 558/600\n",
      "2/2 [==============================] - 0s 239ms/step - loss: 0.1980 - categorical_accuracy: 0.9000\n",
      "Epoch 559/600\n",
      "2/2 [==============================] - 1s 282ms/step - loss: 0.1738 - categorical_accuracy: 0.9333\n",
      "Epoch 560/600\n",
      "2/2 [==============================] - 0s 189ms/step - loss: 0.1871 - categorical_accuracy: 0.9333\n",
      "Epoch 561/600\n",
      "2/2 [==============================] - 0s 174ms/step - loss: 0.1930 - categorical_accuracy: 0.8667\n",
      "Epoch 562/600\n",
      "2/2 [==============================] - 0s 155ms/step - loss: 0.1723 - categorical_accuracy: 0.9333\n",
      "Epoch 563/600\n",
      "2/2 [==============================] - 0s 244ms/step - loss: 0.1367 - categorical_accuracy: 0.9667\n",
      "Epoch 564/600\n",
      "2/2 [==============================] - 0s 244ms/step - loss: 0.1406 - categorical_accuracy: 0.9667\n",
      "Epoch 565/600\n",
      "2/2 [==============================] - 1s 242ms/step - loss: 0.1284 - categorical_accuracy: 0.9667\n",
      "Epoch 566/600\n",
      "2/2 [==============================] - 0s 136ms/step - loss: 0.1161 - categorical_accuracy: 0.9833\n",
      "Epoch 567/600\n",
      "2/2 [==============================] - 1s 332ms/step - loss: 0.1168 - categorical_accuracy: 0.9500\n",
      "Epoch 568/600\n",
      "2/2 [==============================] - 0s 153ms/step - loss: 0.1054 - categorical_accuracy: 0.9667\n",
      "Epoch 569/600\n",
      "2/2 [==============================] - 0s 178ms/step - loss: 0.0851 - categorical_accuracy: 0.9833\n",
      "Epoch 570/600\n",
      "2/2 [==============================] - 0s 244ms/step - loss: 0.0845 - categorical_accuracy: 0.9833\n",
      "Epoch 571/600\n",
      "2/2 [==============================] - 1s 328ms/step - loss: 0.0939 - categorical_accuracy: 0.9500\n",
      "Epoch 572/600\n",
      "2/2 [==============================] - 0s 133ms/step - loss: 0.1027 - categorical_accuracy: 0.9667\n",
      "Epoch 573/600\n",
      "2/2 [==============================] - 1s 224ms/step - loss: 0.3487 - categorical_accuracy: 0.8000\n",
      "Epoch 574/600\n",
      "2/2 [==============================] - 1s 425ms/step - loss: 1.0982 - categorical_accuracy: 0.7833\n",
      "Epoch 575/600\n",
      "2/2 [==============================] - 1s 342ms/step - loss: 3.6422 - categorical_accuracy: 0.5667\n",
      "Epoch 576/600\n",
      "2/2 [==============================] - 1s 378ms/step - loss: 3.0373 - categorical_accuracy: 0.5333\n",
      "Epoch 577/600\n",
      "2/2 [==============================] - 1s 276ms/step - loss: 2.0576 - categorical_accuracy: 0.4667\n",
      "Epoch 578/600\n",
      "2/2 [==============================] - 0s 192ms/step - loss: 1.5962 - categorical_accuracy: 0.5667\n",
      "Epoch 579/600\n",
      "2/2 [==============================] - 0s 197ms/step - loss: 1.0838 - categorical_accuracy: 0.6500\n",
      "Epoch 580/600\n",
      "2/2 [==============================] - 0s 184ms/step - loss: 0.8315 - categorical_accuracy: 0.5833\n",
      "Epoch 581/600\n",
      "2/2 [==============================] - 0s 230ms/step - loss: 0.7236 - categorical_accuracy: 0.6833\n",
      "Epoch 582/600\n",
      "2/2 [==============================] - 0s 206ms/step - loss: 0.7672 - categorical_accuracy: 0.6500\n",
      "Epoch 583/600\n",
      "2/2 [==============================] - 0s 159ms/step - loss: 2.3047 - categorical_accuracy: 0.6667\n",
      "Epoch 584/600\n",
      "2/2 [==============================] - 0s 193ms/step - loss: 0.7047 - categorical_accuracy: 0.7167\n",
      "Epoch 585/600\n",
      "2/2 [==============================] - 0s 211ms/step - loss: 0.7952 - categorical_accuracy: 0.6000\n",
      "Epoch 586/600\n",
      "2/2 [==============================] - 0s 211ms/step - loss: 0.7960 - categorical_accuracy: 0.6167\n",
      "Epoch 587/600\n",
      "2/2 [==============================] - 1s 237ms/step - loss: 0.7025 - categorical_accuracy: 0.7000\n",
      "Epoch 588/600\n",
      "2/2 [==============================] - 0s 191ms/step - loss: 0.6714 - categorical_accuracy: 0.7333\n",
      "Epoch 589/600\n",
      "2/2 [==============================] - 0s 180ms/step - loss: 0.6724 - categorical_accuracy: 0.7333\n",
      "Epoch 590/600\n",
      "2/2 [==============================] - 0s 250ms/step - loss: 0.6457 - categorical_accuracy: 0.7333\n",
      "Epoch 591/600\n",
      "2/2 [==============================] - 0s 238ms/step - loss: 0.6093 - categorical_accuracy: 0.7500\n",
      "Epoch 592/600\n",
      "2/2 [==============================] - 0s 188ms/step - loss: 0.5694 - categorical_accuracy: 0.7667\n",
      "Epoch 593/600\n",
      "2/2 [==============================] - 0s 133ms/step - loss: 0.5540 - categorical_accuracy: 0.7667\n",
      "Epoch 594/600\n",
      "2/2 [==============================] - 0s 154ms/step - loss: 0.5286 - categorical_accuracy: 0.8167\n",
      "Epoch 595/600\n",
      "2/2 [==============================] - 0s 225ms/step - loss: 0.5076 - categorical_accuracy: 0.8167\n",
      "Epoch 596/600\n",
      "2/2 [==============================] - 0s 236ms/step - loss: 0.4928 - categorical_accuracy: 0.8000\n",
      "Epoch 597/600\n",
      "2/2 [==============================] - 1s 215ms/step - loss: 0.4673 - categorical_accuracy: 0.8333\n",
      "Epoch 598/600\n",
      "2/2 [==============================] - 1s 389ms/step - loss: 0.4634 - categorical_accuracy: 0.7833\n",
      "Epoch 599/600\n",
      "2/2 [==============================] - 1s 417ms/step - loss: 0.4413 - categorical_accuracy: 0.8167\n",
      "Epoch 600/600\n",
      "2/2 [==============================] - 0s 282ms/step - loss: 0.4305 - categorical_accuracy: 0.8333\n"
     ]
    },
    {
     "data": {
      "text/plain": [
       "<keras.src.callbacks.History at 0x7f2d5dfc8a90>"
      ]
     },
     "execution_count": 40,
     "metadata": {},
     "output_type": "execute_result"
    }
   ],
   "source": [
    "model.fit(X_train, y_train, epochs=600, callbacks=[tb_callback])"
   ]
  },
  {
   "cell_type": "code",
   "execution_count": 42,
   "metadata": {},
   "outputs": [
    {
     "name": "stdout",
     "output_type": "stream",
     "text": [
      "Model: \"sequential\"\n",
      "_________________________________________________________________\n",
      " Layer (type)                Output Shape              Param #   \n",
      "=================================================================\n",
      " lstm (LSTM)                 (None, 20, 64)            442112    \n",
      "                                                                 \n",
      " lstm_1 (LSTM)               (None, 20, 128)           98816     \n",
      "                                                                 \n",
      " lstm_2 (LSTM)               (None, 64)                49408     \n",
      "                                                                 \n",
      " dense (Dense)               (None, 64)                4160      \n",
      "                                                                 \n",
      " dense_1 (Dense)             (None, 32)                2080      \n",
      "                                                                 \n",
      " dense_2 (Dense)             (None, 5)                 165       \n",
      "                                                                 \n",
      "=================================================================\n",
      "Total params: 596741 (2.28 MB)\n",
      "Trainable params: 596741 (2.28 MB)\n",
      "Non-trainable params: 0 (0.00 Byte)\n",
      "_________________________________________________________________\n"
     ]
    }
   ],
   "source": [
    "model.summary()"
   ]
  },
  {
   "cell_type": "markdown",
   "metadata": {},
   "source": [
    "# 8. Make Predictions"
   ]
  },
  {
   "cell_type": "code",
   "execution_count": 43,
   "metadata": {},
   "outputs": [
    {
     "name": "stdout",
     "output_type": "stream",
     "text": [
      "3/3 [==============================] - 0s 100ms/step\n"
     ]
    }
   ],
   "source": [
    "res = model.predict(X_test)"
   ]
  },
  {
   "cell_type": "code",
   "execution_count": 44,
   "metadata": {},
   "outputs": [
    {
     "data": {
      "text/plain": [
       "'Yes'"
      ]
     },
     "execution_count": 44,
     "metadata": {},
     "output_type": "execute_result"
    }
   ],
   "source": [
    "actions[np.argmax(res[4])]"
   ]
  },
  {
   "cell_type": "code",
   "execution_count": 104,
   "metadata": {},
   "outputs": [
    {
     "data": {
      "text/plain": [
       "'Hello'"
      ]
     },
     "execution_count": 104,
     "metadata": {},
     "output_type": "execute_result"
    }
   ],
   "source": [
    "actions[np.argmax(y_test[4])]"
   ]
  },
  {
   "cell_type": "markdown",
   "metadata": {},
   "source": [
    "# 9. Save Weights"
   ]
  },
  {
   "cell_type": "code",
   "execution_count": 216,
   "metadata": {},
   "outputs": [],
   "source": [
    "model.save('0.6Acc.h5')"
   ]
  },
  {
   "cell_type": "code",
   "execution_count": 217,
   "metadata": {},
   "outputs": [],
   "source": [
    "del model"
   ]
  },
  {
   "cell_type": "code",
   "execution_count": 29,
   "metadata": {},
   "outputs": [
    {
     "ename": "NameError",
     "evalue": "name 'model' is not defined",
     "output_type": "error",
     "traceback": [
      "\u001b[0;31m---------------------------------------------------------------------------\u001b[0m",
      "\u001b[0;31mNameError\u001b[0m                                 Traceback (most recent call last)",
      "Cell \u001b[0;32mIn[29], line 1\u001b[0m\n\u001b[0;32m----> 1\u001b[0m \u001b[43mmodel\u001b[49m\u001b[38;5;241m.\u001b[39mload_weights(\u001b[38;5;124m'\u001b[39m\u001b[38;5;124m0.5Acc.h5\u001b[39m\u001b[38;5;124m'\u001b[39m)\n",
      "\u001b[0;31mNameError\u001b[0m: name 'model' is not defined"
     ]
    }
   ],
   "source": [
    "model.load_weights('0.5Acc.h5')"
   ]
  },
  {
   "cell_type": "markdown",
   "metadata": {},
   "source": [
    "# 10. Evaluation using Confusion Matrix and Accuracy"
   ]
  },
  {
   "cell_type": "code",
   "execution_count": 3,
   "metadata": {},
   "outputs": [],
   "source": [
    "from sklearn.metrics import multilabel_confusion_matrix, accuracy_score"
   ]
  },
  {
   "cell_type": "code",
   "execution_count": 4,
   "metadata": {},
   "outputs": [
    {
     "ename": "NameError",
     "evalue": "name 'model' is not defined",
     "output_type": "error",
     "traceback": [
      "\u001b[0;31m---------------------------------------------------------------------------\u001b[0m",
      "\u001b[0;31mNameError\u001b[0m                                 Traceback (most recent call last)",
      "Cell \u001b[0;32mIn[4], line 1\u001b[0m\n\u001b[0;32m----> 1\u001b[0m yhat \u001b[38;5;241m=\u001b[39m \u001b[43mmodel\u001b[49m\u001b[38;5;241m.\u001b[39mpredict(X_test)\n",
      "\u001b[0;31mNameError\u001b[0m: name 'model' is not defined"
     ]
    }
   ],
   "source": [
    "yhat = model.predict(X_test)"
   ]
  },
  {
   "cell_type": "code",
   "execution_count": 5,
   "metadata": {},
   "outputs": [
    {
     "ename": "NameError",
     "evalue": "name 'np' is not defined",
     "output_type": "error",
     "traceback": [
      "\u001b[0;31m---------------------------------------------------------------------------\u001b[0m",
      "\u001b[0;31mNameError\u001b[0m                                 Traceback (most recent call last)",
      "Cell \u001b[0;32mIn[5], line 1\u001b[0m\n\u001b[0;32m----> 1\u001b[0m ytrue \u001b[38;5;241m=\u001b[39m \u001b[43mnp\u001b[49m\u001b[38;5;241m.\u001b[39margmax(y_test, axis\u001b[38;5;241m=\u001b[39m\u001b[38;5;241m1\u001b[39m)\u001b[38;5;241m.\u001b[39mtolist()\n\u001b[1;32m      2\u001b[0m yhat \u001b[38;5;241m=\u001b[39m np\u001b[38;5;241m.\u001b[39margmax(yhat, axis\u001b[38;5;241m=\u001b[39m\u001b[38;5;241m1\u001b[39m)\u001b[38;5;241m.\u001b[39mtolist()\n",
      "\u001b[0;31mNameError\u001b[0m: name 'np' is not defined"
     ]
    }
   ],
   "source": [
    "ytrue = np.argmax(y_test, axis=1).tolist()\n",
    "yhat = np.argmax(yhat, axis=1).tolist()"
   ]
  },
  {
   "cell_type": "code",
   "execution_count": 6,
   "metadata": {},
   "outputs": [
    {
     "ename": "NameError",
     "evalue": "name 'ytrue' is not defined",
     "output_type": "error",
     "traceback": [
      "\u001b[0;31m---------------------------------------------------------------------------\u001b[0m",
      "\u001b[0;31mNameError\u001b[0m                                 Traceback (most recent call last)",
      "Cell \u001b[0;32mIn[6], line 1\u001b[0m\n\u001b[0;32m----> 1\u001b[0m multilabel_confusion_matrix(\u001b[43mytrue\u001b[49m, yhat)\n",
      "\u001b[0;31mNameError\u001b[0m: name 'ytrue' is not defined"
     ]
    }
   ],
   "source": [
    "multilabel_confusion_matrix(ytrue, yhat)"
   ]
  },
  {
   "cell_type": "code",
   "execution_count": 7,
   "metadata": {},
   "outputs": [
    {
     "ename": "NameError",
     "evalue": "name 'ytrue' is not defined",
     "output_type": "error",
     "traceback": [
      "\u001b[0;31m---------------------------------------------------------------------------\u001b[0m",
      "\u001b[0;31mNameError\u001b[0m                                 Traceback (most recent call last)",
      "Cell \u001b[0;32mIn[7], line 1\u001b[0m\n\u001b[0;32m----> 1\u001b[0m accuracy_score(\u001b[43mytrue\u001b[49m, yhat)\n",
      "\u001b[0;31mNameError\u001b[0m: name 'ytrue' is not defined"
     ]
    }
   ],
   "source": [
    "accuracy_score(ytrue, yhat)"
   ]
  },
  {
   "cell_type": "markdown",
   "metadata": {},
   "source": [
    "# 11. Test in Real Time"
   ]
  },
  {
   "cell_type": "code",
   "execution_count": 8,
   "metadata": {},
   "outputs": [],
   "source": [
    "def prob_viz(res, actions, input_frame, colors):\n",
    "    output_frame = input_frame.copy()\n",
    "    for num, prob in enumerate(res):\n",
    "        # Define the coordinates of the top-left and bottom-right corners\n",
    "        top_left = (0, 60 + num * 40)\n",
    "        bottom_right = (int(prob * 100), 90 + num * 40)\n",
    "        # Draw the rectangle using the defined coordinates\n",
    "        cv2.rectangle(output_frame, top_left, bottom_right, colors[num], -1)\n",
    "        cv2.putText(output_frame, actions[num], (0, 85 + num * 40), cv2.FONT_HERSHEY_SIMPLEX, 1, (255, 255, 255), 2, cv2.LINE_AA)\n",
    "    return output_frame\n"
   ]
  },
  {
   "cell_type": "code",
   "execution_count": 9,
   "metadata": {},
   "outputs": [
    {
     "ename": "NameError",
     "evalue": "name 'plt' is not defined",
     "output_type": "error",
     "traceback": [
      "\u001b[0;31m---------------------------------------------------------------------------\u001b[0m",
      "\u001b[0;31mNameError\u001b[0m                                 Traceback (most recent call last)",
      "Cell \u001b[0;32mIn[9], line 1\u001b[0m\n\u001b[0;32m----> 1\u001b[0m \u001b[43mplt\u001b[49m\u001b[38;5;241m.\u001b[39mfigure(figsize\u001b[38;5;241m=\u001b[39m(\u001b[38;5;241m18\u001b[39m,\u001b[38;5;241m18\u001b[39m))\n\u001b[1;32m      2\u001b[0m plt\u001b[38;5;241m.\u001b[39mimshow(prob_viz(res, actions, image, colors))\n",
      "\u001b[0;31mNameError\u001b[0m: name 'plt' is not defined"
     ]
    }
   ],
   "source": [
    "plt.figure(figsize=(18,18))\n",
    "plt.imshow(prob_viz(res, actions, image, colors))"
   ]
  },
  {
   "cell_type": "code",
   "execution_count": 19,
   "metadata": {},
   "outputs": [],
   "source": [
    "sequence.reverse()"
   ]
  },
  {
   "cell_type": "code",
   "execution_count": 23,
   "metadata": {},
   "outputs": [
    {
     "data": {
      "text/plain": [
       "1"
      ]
     },
     "execution_count": 23,
     "metadata": {},
     "output_type": "execute_result"
    }
   ],
   "source": [
    "len(sequence)"
   ]
  },
  {
   "cell_type": "code",
   "execution_count": 51,
   "metadata": {},
   "outputs": [],
   "source": [
    "sequence.append('def')"
   ]
  },
  {
   "cell_type": "code",
   "execution_count": 34,
   "metadata": {},
   "outputs": [],
   "source": [
    "sequence.reverse()"
   ]
  },
  {
   "cell_type": "code",
   "execution_count": null,
   "metadata": {
    "scrolled": true
   },
   "outputs": [],
   "source": [
    "sequence[-30:]"
   ]
  },
  {
   "cell_type": "code",
   "execution_count": 52,
   "metadata": {},
   "outputs": [
    {
     "name": "stdout",
     "output_type": "stream",
     "text": [
      "<class 'mediapipe.python.solution_base.SolutionOutputs'>\n",
      "<class 'mediapipe.python.solution_base.SolutionOutputs'>\n",
      "<class 'mediapipe.python.solution_base.SolutionOutputs'>\n",
      "<class 'mediapipe.python.solution_base.SolutionOutputs'>\n",
      "<class 'mediapipe.python.solution_base.SolutionOutputs'>\n",
      "<class 'mediapipe.python.solution_base.SolutionOutputs'>\n",
      "<class 'mediapipe.python.solution_base.SolutionOutputs'>\n",
      "<class 'mediapipe.python.solution_base.SolutionOutputs'>\n",
      "<class 'mediapipe.python.solution_base.SolutionOutputs'>\n",
      "<class 'mediapipe.python.solution_base.SolutionOutputs'>\n",
      "<class 'mediapipe.python.solution_base.SolutionOutputs'>\n",
      "<class 'mediapipe.python.solution_base.SolutionOutputs'>\n",
      "<class 'mediapipe.python.solution_base.SolutionOutputs'>\n",
      "<class 'mediapipe.python.solution_base.SolutionOutputs'>\n",
      "<class 'mediapipe.python.solution_base.SolutionOutputs'>\n",
      "<class 'mediapipe.python.solution_base.SolutionOutputs'>\n",
      "<class 'mediapipe.python.solution_base.SolutionOutputs'>\n",
      "<class 'mediapipe.python.solution_base.SolutionOutputs'>\n",
      "<class 'mediapipe.python.solution_base.SolutionOutputs'>\n",
      "<class 'mediapipe.python.solution_base.SolutionOutputs'>\n",
      "<class 'mediapipe.python.solution_base.SolutionOutputs'>\n",
      "<class 'mediapipe.python.solution_base.SolutionOutputs'>\n",
      "<class 'mediapipe.python.solution_base.SolutionOutputs'>\n",
      "<class 'mediapipe.python.solution_base.SolutionOutputs'>\n",
      "<class 'mediapipe.python.solution_base.SolutionOutputs'>\n",
      "<class 'mediapipe.python.solution_base.SolutionOutputs'>\n",
      "<class 'mediapipe.python.solution_base.SolutionOutputs'>\n",
      "<class 'mediapipe.python.solution_base.SolutionOutputs'>\n",
      "<class 'mediapipe.python.solution_base.SolutionOutputs'>\n",
      "<class 'mediapipe.python.solution_base.SolutionOutputs'>\n",
      "1/1 [==============================] - 1s 641ms/step\n",
      "I Love You\n"
     ]
    },
    {
     "ename": "IndexError",
     "evalue": "list index out of range",
     "output_type": "error",
     "traceback": [
      "\u001b[0;31m---------------------------------------------------------------------------\u001b[0m",
      "\u001b[0;31mIndexError\u001b[0m                                Traceback (most recent call last)",
      "Cell \u001b[0;32mIn[52], line 45\u001b[0m\n\u001b[1;32m     42\u001b[0m         sentence \u001b[38;5;241m=\u001b[39m sentence[\u001b[38;5;241m-\u001b[39m\u001b[38;5;241m5\u001b[39m:]\n\u001b[1;32m     44\u001b[0m     \u001b[38;5;66;03m# Viz probabilities\u001b[39;00m\n\u001b[0;32m---> 45\u001b[0m     image \u001b[38;5;241m=\u001b[39m \u001b[43mprob_viz\u001b[49m\u001b[43m(\u001b[49m\u001b[43mres\u001b[49m\u001b[43m,\u001b[49m\u001b[43m \u001b[49m\u001b[43mactions\u001b[49m\u001b[43m,\u001b[49m\u001b[43m \u001b[49m\u001b[43mimage\u001b[49m\u001b[43m,\u001b[49m\u001b[43m \u001b[49m\u001b[43mcolors\u001b[49m\u001b[43m)\u001b[49m\n\u001b[1;32m     47\u001b[0m cv2\u001b[38;5;241m.\u001b[39mrectangle(image, (\u001b[38;5;241m0\u001b[39m,\u001b[38;5;241m0\u001b[39m), (\u001b[38;5;241m640\u001b[39m, \u001b[38;5;241m40\u001b[39m), (\u001b[38;5;241m245\u001b[39m, \u001b[38;5;241m117\u001b[39m, \u001b[38;5;241m16\u001b[39m), \u001b[38;5;241m-\u001b[39m\u001b[38;5;241m1\u001b[39m)\n\u001b[1;32m     48\u001b[0m cv2\u001b[38;5;241m.\u001b[39mputText(image, \u001b[38;5;124m'\u001b[39m\u001b[38;5;124m \u001b[39m\u001b[38;5;124m'\u001b[39m\u001b[38;5;241m.\u001b[39mjoin(sentence), (\u001b[38;5;241m3\u001b[39m,\u001b[38;5;241m30\u001b[39m), \n\u001b[1;32m     49\u001b[0m                cv2\u001b[38;5;241m.\u001b[39mFONT_HERSHEY_SIMPLEX, \u001b[38;5;241m1\u001b[39m, (\u001b[38;5;241m255\u001b[39m, \u001b[38;5;241m255\u001b[39m, \u001b[38;5;241m255\u001b[39m), \u001b[38;5;241m2\u001b[39m, cv2\u001b[38;5;241m.\u001b[39mLINE_AA)\n",
      "Cell \u001b[0;32mIn[50], line 5\u001b[0m, in \u001b[0;36mprob_viz\u001b[0;34m(res, actions, input_frame, colors)\u001b[0m\n\u001b[1;32m      3\u001b[0m output_frame \u001b[38;5;241m=\u001b[39m input_frame\u001b[38;5;241m.\u001b[39mcopy()\n\u001b[1;32m      4\u001b[0m \u001b[38;5;28;01mfor\u001b[39;00m num, prob \u001b[38;5;129;01min\u001b[39;00m \u001b[38;5;28menumerate\u001b[39m(res):\n\u001b[0;32m----> 5\u001b[0m     cv2\u001b[38;5;241m.\u001b[39mrectangle(output_frame, (\u001b[38;5;241m0\u001b[39m,\u001b[38;5;241m60\u001b[39m\u001b[38;5;241m+\u001b[39mnum\u001b[38;5;241m*\u001b[39m\u001b[38;5;241m40\u001b[39m), (\u001b[38;5;28mint\u001b[39m(prob\u001b[38;5;241m*\u001b[39m\u001b[38;5;241m100\u001b[39m), \u001b[38;5;241m90\u001b[39m\u001b[38;5;241m+\u001b[39mnum\u001b[38;5;241m*\u001b[39m\u001b[38;5;241m40\u001b[39m), \u001b[43mcolors\u001b[49m\u001b[43m[\u001b[49m\u001b[43mnum\u001b[49m\u001b[43m]\u001b[49m, \u001b[38;5;241m-\u001b[39m\u001b[38;5;241m1\u001b[39m)\n\u001b[1;32m      6\u001b[0m     cv2\u001b[38;5;241m.\u001b[39mputText(output_frame, actions[num], (\u001b[38;5;241m0\u001b[39m, \u001b[38;5;241m85\u001b[39m\u001b[38;5;241m+\u001b[39mnum\u001b[38;5;241m*\u001b[39m\u001b[38;5;241m40\u001b[39m), cv2\u001b[38;5;241m.\u001b[39mFONT_HERSHEY_SIMPLEX, \u001b[38;5;241m1\u001b[39m, (\u001b[38;5;241m255\u001b[39m,\u001b[38;5;241m255\u001b[39m,\u001b[38;5;241m255\u001b[39m), \u001b[38;5;241m2\u001b[39m, cv2\u001b[38;5;241m.\u001b[39mLINE_AA)\n\u001b[1;32m      8\u001b[0m \u001b[38;5;28;01mreturn\u001b[39;00m output_frame\n",
      "\u001b[0;31mIndexError\u001b[0m: list index out of range"
     ]
    }
   ],
   "source": [
    "# 1. New detection variables\n",
    "sequence = []\n",
    "sentence = []\n",
    "threshold = 0.8\n",
    "\n",
    "cap = cv2.VideoCapture(0)\n",
    "# Set mediapipe model \n",
    "with mp_holistic.Holistic(min_detection_confidence=0.5, min_tracking_confidence=0.5) as holistic:\n",
    "    while cap.isOpened():\n",
    "\n",
    "        # Read feed\n",
    "        ret, frame = cap.read()\n",
    "\n",
    "        # Make detections\n",
    "        image, results = mediapipe_detection(frame, holistic)\n",
    "        print(results)\n",
    "        \n",
    "        # Draw landmarks\n",
    "        draw_styled_landmarks(image, results)\n",
    "        \n",
    "        # 2. Prediction logic\n",
    "        keypoints = extract_keypoints(results)\n",
    "#         sequence.insert(0,keypoints)\n",
    "#         sequence = sequence[:30]\n",
    "        sequence.append(keypoints)\n",
    "        sequence = sequence[-30:]\n",
    "        \n",
    "        if len(sequence) == 30:\n",
    "            res = model.predict(np.expand_dims(sequence, axis=0))[0]\n",
    "            print(actions[np.argmax(res)])\n",
    "            \n",
    "            \n",
    "        #3. Viz logic\n",
    "            if res[np.argmax(res)] > threshold: \n",
    "                if len(sentence) > 0: \n",
    "                    if actions[np.argmax(res)] != sentence[-1]:\n",
    "                        sentence.append(actions[np.argmax(res)])\n",
    "                else:\n",
    "                    sentence.append(actions[np.argmax(res)])\n",
    "\n",
    "            if len(sentence) > 5: \n",
    "                sentence = sentence[-5:]\n",
    "\n",
    "            # Viz probabilities\n",
    "            image = prob_viz(res, actions, image, colors)\n",
    "            \n",
    "        cv2.rectangle(image, (0,0), (640, 40), (245, 117, 16), -1)\n",
    "        cv2.putText(image, ' '.join(sentence), (3,30), \n",
    "                       cv2.FONT_HERSHEY_SIMPLEX, 1, (255, 255, 255), 2, cv2.LINE_AA)\n",
    "        \n",
    "        # Show to screen\n",
    "        cv2.imshow('OpenCV Feed', image)\n",
    "\n",
    "        # Break gracefully\n",
    "        if cv2.waitKey(10) & 0xFF == ord('q'):\n",
    "            break\n",
    "    cap.release()\n",
    "    cv2.destroyAllWindows()"
   ]
  },
  {
   "cell_type": "code",
   "execution_count": 20,
   "metadata": {},
   "outputs": [],
   "source": [
    "cap.release()\n",
    "cv2.destroyAllWindows()"
   ]
  },
  {
   "cell_type": "code",
   "execution_count": 247,
   "metadata": {},
   "outputs": [
    {
     "data": {
      "text/plain": [
       "True"
      ]
     },
     "execution_count": 247,
     "metadata": {},
     "output_type": "execute_result"
    }
   ],
   "source": [
    "res[np.argmax(res)] > threshold"
   ]
  },
  {
   "cell_type": "code",
   "execution_count": null,
   "metadata": {},
   "outputs": [],
   "source": [
    "(num_sequences,30,1662)"
   ]
  },
  {
   "cell_type": "code",
   "execution_count": 240,
   "metadata": {},
   "outputs": [
    {
     "data": {
      "text/plain": [
       "array([[5.532469e-04, 9.974770e-01, 1.969744e-03]], dtype=float32)"
      ]
     },
     "execution_count": 240,
     "metadata": {},
     "output_type": "execute_result"
    }
   ],
   "source": [
    "model.predict(np.expand_dims(X_test[0], axis=0))"
   ]
  }
 ],
 "metadata": {
  "kernelspec": {
   "display_name": "Python 3 (ipykernel)",
   "language": "python",
   "name": "python3"
  },
  "language_info": {
   "codemirror_mode": {
    "name": "ipython",
    "version": 3
   },
   "file_extension": ".py",
   "mimetype": "text/x-python",
   "name": "python",
   "nbconvert_exporter": "python",
   "pygments_lexer": "ipython3",
   "version": "3.10.12"
  }
 },
 "nbformat": 4,
 "nbformat_minor": 4
}
